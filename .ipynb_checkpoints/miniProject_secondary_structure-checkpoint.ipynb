{
 "cells": [
  {
   "cell_type": "markdown",
   "metadata": {},
   "source": [
    "Display Secondary Structure:\n",
    "\n",
    "For each chain in the loaded pdb,print a representation of the secondary structure \n",
    "\n",
    "using the character \n",
    "‘/’ to represent an amino acid that is part of a helix, \n",
    "‘|’ for one that is part of a sheet, and \n",
    "‘-’ for any other. \n",
    "\n",
    "Each line should have a maximum of 80 characters. \n",
    "\n",
    "Over the representation, the sequence should be displayed, and under it, a tag indicating the identifier of the substructure should be aligned.\n"
   ]
  },
  {
   "cell_type": "markdown",
   "metadata": {},
   "source": [
    ":S\n",
    "\n",
    "Secondary Structure of the PDB id 3AYU:\n",
    "\n",
    "Chain A:\n",
    "(1)\n",
    "YNFFPRKPKWDKNQITYRIIGYTPDLDPETVDDAFARAFQVWSDVTPLRFSRIHDGEADIMINFGRWEHGDGYPFDGKDG\n",
    "-||----------||||||-------//////////////////----||||-------||||||---------------\n",
    " 1A          2B           1                     1B         3B\n",
    "\n",
    " LLAHAFAPGTGVGGDSHFDDDELWTLGKGVGYSLFLVAAHAFGHAMGLEHSQDPGALMAPIYTYTKNFRLSQDDIKGIQE\n",
    " --||||---------||||----||------||/////////////-||---------------------//////////\n",
    "   5B           4B      1C      2C2             2A                     3\n",
    " \n",
    "LYGASPD\n",
    "///----\n",
    "\n",
    "(167)\n",
    "\n",
    " Chain B:\n",
    " (1)\n",
    " ISYGNDALMP\n",
    " ------||--\n",
    "       6B\n",
    " (10)\n",
    " "
   ]
  },
  {
   "cell_type": "raw",
   "metadata": {},
   "source": []
  },
  {
   "cell_type": "markdown",
   "metadata": {},
   "source": [
    "### Fundtions form else where needed here"
   ]
  },
  {
   "cell_type": "code",
   "execution_count": null,
   "metadata": {},
   "outputs": [],
   "source": [
    "def print_menu():\n",
    "    print(\n",
    "\"\"\"\n",
    "********************************************************************************\n",
    "* PDB FILE ANALYZER                                                            *\n",
    "********************************************************************************\n",
    "* Select an option from below:                                                 *\n",
    "*                                                                              *\n",
    "*      1) Open a PDB File                      (O)                             *\n",
    "*      2) Information                          (I)                             *\n",
    "*      3) Show histogram of amino acids        (H)                             *\n",
    "*      4) Display Secondary Structure          (S)                             *\n",
    "*      5) Export PDB File                      (X)                             *\n",
    "*      6) Exit                                 (Q)                             *\n",
    "*                                                                              *\n",
    "*                                                            Current PDB: None *\n",
    "********************************************************************************\n",
    "\"\"\")\n",
    "    option = input(\": \")\n",
    "    return option"
   ]
  },
  {
   "cell_type": "code",
   "execution_count": null,
   "metadata": {},
   "outputs": [],
   "source": []
  },
  {
   "cell_type": "code",
   "execution_count": null,
   "metadata": {},
   "outputs": [],
   "source": []
  },
  {
   "cell_type": "code",
   "execution_count": null,
   "metadata": {},
   "outputs": [],
   "source": []
  },
  {
   "cell_type": "code",
   "execution_count": null,
   "metadata": {},
   "outputs": [],
   "source": []
  },
  {
   "cell_type": "code",
   "execution_count": null,
   "metadata": {},
   "outputs": [],
   "source": []
  },
  {
   "cell_type": "code",
   "execution_count": null,
   "metadata": {},
   "outputs": [],
   "source": [
    "HELIX    1     1 ASP A   27 ASP A   44  1                                  18    \n",
    "HELIX    2     2 LEU A  114 MET A  126  1                                  13    \n",
    "HELIX    3     3 SER A  151 GLY A  163  1                                  13    \n",
    "SHEET    1   A 2 ASN A   2  PHE A   3   0                                        \n",
    "SHEET    2   A 2 LEU A  128 GLU A 129  -1  O  GLU A 129   N  ASN A   2           \n",
    "SHEET    1   B 6 ARG A  49  ARG A  52   0                                        \n",
    "SHEET    2   B 6 GLN A  14  ILE A  19   1  N  ILE A  15   O  ARG A  49           \n",
    "SHEET    3   B 6 ILE A  60  GLY A  65   1  O  ILE A  62   N  ARG A  18           \n",
    "SHEET    4   B 6 SER A  96  ASP A  99   1  O  PHE A  98   N  GLY A  65           \n",
    "SHEET    5   B 6 ALA A  83  PHE A  86  -1  N  HIS A  84   O  HIS A  97           \n",
    "SHEET    6   B 6 ALA B   7  LEU B   8   1  O  LEU B   8   N  ALA A  85           \n",
    "SHEET    1   C 2 TRP A 104  THR A 105   0                                        \n",
    "SHEET    2   C 2 TYR A 112  SER A 113   1  O  TYR A 112   N  THR A 105 "
   ]
  },
  {
   "cell_type": "code",
   "execution_count": null,
   "metadata": {},
   "outputs": [],
   "source": []
  },
  {
   "cell_type": "code",
   "execution_count": null,
   "metadata": {},
   "outputs": [],
   "source": []
  }
 ],
 "metadata": {
  "kernelspec": {
   "display_name": "Python 3",
   "language": "python",
   "name": "python3"
  },
  "language_info": {
   "codemirror_mode": {
    "name": "ipython",
    "version": 3
   },
   "file_extension": ".py",
   "mimetype": "text/x-python",
   "name": "python",
   "nbconvert_exporter": "python",
   "pygments_lexer": "ipython3",
   "version": "3.7.2"
  }
 },
 "nbformat": 4,
 "nbformat_minor": 2
}
