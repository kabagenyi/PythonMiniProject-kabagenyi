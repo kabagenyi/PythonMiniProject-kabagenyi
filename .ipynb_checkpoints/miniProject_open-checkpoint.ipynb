{
 "cells": [
  {
   "cell_type": "code",
   "execution_count": 12,
   "metadata": {},
   "outputs": [],
   "source": [
    "pdb_file = None"
   ]
  },
  {
   "cell_type": "code",
   "execution_count": 28,
   "metadata": {},
   "outputs": [],
   "source": [
    "def print_menu():\n",
    "    print(\n",
    "\"\"\"\n",
    "********************************************************************************\n",
    "* PDB FILE ANALYZER                                                            *\n",
    "********************************************************************************\n",
    "* Select an option from below:                                                 *\n",
    "*                                                                              *\n",
    "*      1) Open a PDB File                      (O)                             *\n",
    "*      2) Information                          (I)                             *\n",
    "*      3) Show histogram of amino acids        (H)                             *\n",
    "*      4) Display Secondary Structure          (S)                             *\n",
    "*      5) Export PDB File                      (X)                             *\n",
    "*      6) Exit                                 (Q)                             *\n",
    "*                                                                              *\n",
    "*                                                            Current PDB: None *\n",
    "********************************************************************************\n",
    "\"\"\")\n",
    "    option = input(\": \")\n",
    "    return option\n"
   ]
  },
  {
   "cell_type": "code",
   "execution_count": 29,
   "metadata": {},
   "outputs": [
    {
     "name": "stdout",
     "output_type": "stream",
     "text": [
      "\n",
      "********************************************************************************\n",
      "* PDB FILE ANALYZER                                                            *\n",
      "********************************************************************************\n",
      "* Select an option from below:                                                 *\n",
      "*                                                                              *\n",
      "*      1) Open a PDB File                      (O)                             *\n",
      "*      2) Information                          (I)                             *\n",
      "*      3) Show histogram of amino acids        (H)                             *\n",
      "*      4) Display Secondary Structure          (S)                             *\n",
      "*      5) Export PDB File                      (X)                             *\n",
      "*      6) Exit                                 (Q)                             *\n",
      "*                                                                              *\n",
      "*                                                            Current PDB: None *\n",
      "********************************************************************************\n",
      "\n"
     ]
    },
    {
     "name": "stdin",
     "output_type": "stream",
     "text": [
      ":  3AYU.pdb\n"
     ]
    }
   ],
   "source": [
    "opt = print_menu()"
   ]
  },
  {
   "cell_type": "code",
   "execution_count": 30,
   "metadata": {},
   "outputs": [],
   "source": [
    "import os\n",
    "def give_options(option):\n",
    "    if option.lower() in ('o','i','h','s','x','q'):\n",
    "        if option.lower() == 'o':\n",
    "            main_open(opt)\n",
    "            print_menu()\n",
    "        elif option.lower() == 'i':\n",
    "            print(\"Information\")\n",
    "            main_info_function\n",
    "            print_menu()\n",
    "        elif option.lower() == 'h':\n",
    "            print(\"Histogram of Amino Acids\")\n",
    "            main_histogram()\n",
    "            print_menu()\n",
    "        elif option.lower() == 's':\n",
    "            print(\"Display Secondary Structure\")\n",
    "            main_sec_structure(file)\n",
    "            print_menu()\n",
    "        elif option.lower() == 'x':\n",
    "            print(\"Export\")\n",
    "            print_menu()\n",
    "        else:\n",
    "            print(\"Exit\")\n",
    "            main_quit()\n",
    "            print_menu()"
   ]
  },
  {
   "cell_type": "code",
   "execution_count": 15,
   "metadata": {},
   "outputs": [],
   "source": [
    "def open_file():\n",
    "    \"\"\" Asks the user to put in file name and once received, it calls the function that checks whether file path exists\"\"\"\n",
    "    file = input(\"Enter a Valid PATH for a PDB File: \")\n",
    "    path_check(file)"
   ]
  },
  {
   "cell_type": "code",
   "execution_count": 16,
   "metadata": {},
   "outputs": [],
   "source": [
    "def path_check(file):\n",
    "    \"\"\" Checks if file exists \"\"\"\n",
    "    if os.path.exists(file): \n",
    "        check_open(file)\n",
    "    else:\n",
    "        print(\"file not found\")\n",
    "        read_pdb(file)"
   ]
  },
  {
   "cell_type": "code",
   "execution_count": 17,
   "metadata": {},
   "outputs": [],
   "source": [
    "def check_open(file):\n",
    "    \"\"\"checks if file is open or not\"\"\"\n",
    "    if pdb_file:\n",
    "        read_pdb(file)\n",
    "    else:\n",
    "        replacement_check(file)"
   ]
  },
  {
   "cell_type": "code",
   "execution_count": 18,
   "metadata": {},
   "outputs": [],
   "source": [
    "def replacement_check(file):\n",
    "    \"\"\"checks if user wants to replace file or not, incase file was already loaded\"\"\"\n",
    "    if True:\n",
    "        x = input(\"Would you like to replace the current file, Y/N: \")\n",
    "    if x.lower() == 'y':\n",
    "        read_pdb(file)\n",
    "        print(\"The File 3AYU.pdb has been successfully loaded\")\n",
    "    else:\n",
    "        print_menu()"
   ]
  },
  {
   "cell_type": "code",
   "execution_count": 19,
   "metadata": {},
   "outputs": [],
   "source": [
    "def read_pdb(file):\n",
    "    #global pdb_file\n",
    "    with open(file) as myfile:\n",
    "        pdb_file = myfile.readlines()\n",
    "         "
   ]
  },
  {
   "cell_type": "code",
   "execution_count": 32,
   "metadata": {},
   "outputs": [
    {
     "name": "stdin",
     "output_type": "stream",
     "text": [
      "Enter a Valid PATH for a PDB File:  3AYU.pdb\n",
      "Would you like to replace the current file, Y/N:  y\n"
     ]
    },
    {
     "name": "stdout",
     "output_type": "stream",
     "text": [
      "The File 3AYU.pdb has been successfully loaded\n"
     ]
    }
   ],
   "source": [
    "def main_open(opt):\n",
    "    open_file()\n",
    "main_open(opt)"
   ]
  },
  {
   "cell_type": "code",
   "execution_count": null,
   "metadata": {},
   "outputs": [],
   "source": [
    "def main_main_menu():\n",
    "    opt = print_menu()\n",
    "    give_options(opt)\n",
    "    "
   ]
  },
  {
   "cell_type": "markdown",
   "metadata": {},
   "source": [
    "### __Pending stuff__\n",
    "\n",
    "##### 1. changing current PDB in display once file is loaded\n",
    "##### 2. tiding up the options and fall back points\n",
    "##### 3. what if the file is wrong or not in directory\n",
    "##### 4. what if the option is wrong, not among the letters\n",
    "##### 5. think about noit breaking the code incase of error. i.e safe handling of errors\n",
    "##### 6. include a general frame-work function?"
   ]
  },
  {
   "cell_type": "code",
   "execution_count": null,
   "metadata": {},
   "outputs": [],
   "source": []
  }
 ],
 "metadata": {
  "kernelspec": {
   "display_name": "Python 3",
   "language": "python",
   "name": "python3"
  },
  "language_info": {
   "codemirror_mode": {
    "name": "ipython",
    "version": 3
   },
   "file_extension": ".py",
   "mimetype": "text/x-python",
   "name": "python",
   "nbconvert_exporter": "python",
   "pygments_lexer": "ipython3",
   "version": "3.7.2"
  }
 },
 "nbformat": 4,
 "nbformat_minor": 2
}
