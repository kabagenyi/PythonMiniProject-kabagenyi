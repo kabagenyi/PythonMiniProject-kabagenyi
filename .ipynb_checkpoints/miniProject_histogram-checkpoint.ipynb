{
 "cells": [
  {
   "cell_type": "raw",
   "metadata": {},
   "source": [
    "Choose an option to order by:\n",
    "    number of amino acids - ascending (an)\n",
    "    number of amino acids - descending (dn)\n",
    "    alphabetically - ascending (aa)\n",
    "    alphabetically - descending (da)\n",
    "order by: aa\n",
    "\n",
    "Ala ( 15) : ***************\n",
    "Arg (  7) : *******\n",
    "Asn( 5):*****\n",
    "Asp ( 20) : ********************\n",
    "Gln( 5):*****\n",
    "Glu (  6) : ******\n",
    "Gly ( 20) : ********************\n",
    "His (  7) : *******\n",
    "Ile ( 10) : **********\n",
    "Leu ( 13) : *************\n",
    "Lys (  7) : *******\n",
    "Met( 4):****\n",
    "Phe ( 12) : ************\n",
    "Pro ( 11) : ***********\n",
    "Ser (  8) : ********\n",
    "Thr (  8) : ********\n",
    "Trp( 4):****\n",
    "Tyr (  9) : *********\n",
    "Val (  6) : ******"
   ]
  },
  {
   "cell_type": "markdown",
   "metadata": {},
   "source": [
    "### Functions carried over from the previous options. Their outputs are re-used for this histogram function"
   ]
  },
  {
   "cell_type": "code",
   "execution_count": 188,
   "metadata": {},
   "outputs": [],
   "source": [
    "def openFile(file):\n",
    "    \"\"\"open file and extract lines\"\"\"\n",
    "    with open(file) as myfile:\n",
    "        lines = myfile.readlines()\n",
    "    return lines"
   ]
  },
  {
   "cell_type": "code",
   "execution_count": 189,
   "metadata": {},
   "outputs": [],
   "source": [
    "lines= openFile(\"3AYU.pdb\")"
   ]
  },
  {
   "cell_type": "code",
   "execution_count": 190,
   "metadata": {},
   "outputs": [],
   "source": [
    "def extractChainSequences(lines):\n",
    "    \"\"\"extract all the sequence residue lines from the file\"\"\"\n",
    "    seq = []\n",
    "    for line in lines:\n",
    "        if line.startswith('SEQRES'):\n",
    "            seq.append(line[0:])\n",
    "    return seq\n",
    "allSequences = extractChainSequences(lines)"
   ]
  },
  {
   "cell_type": "code",
   "execution_count": 191,
   "metadata": {},
   "outputs": [
    {
     "data": {
      "text/plain": [
       "['SEQRES   1 A  167  TYR ASN PHE PHE PRO ARG LYS PRO LYS TRP ASP LYS ASN          \\n',\n",
       " 'SEQRES   2 A  167  GLN ILE THR TYR ARG ILE ILE GLY TYR THR PRO ASP LEU          \\n',\n",
       " 'SEQRES   3 A  167  ASP PRO GLU THR VAL ASP ASP ALA PHE ALA ARG ALA PHE          \\n',\n",
       " 'SEQRES   4 A  167  GLN VAL TRP SER ASP VAL THR PRO LEU ARG PHE SER ARG          \\n',\n",
       " 'SEQRES   5 A  167  ILE HIS ASP GLY GLU ALA ASP ILE MET ILE ASN PHE GLY          \\n',\n",
       " 'SEQRES   6 A  167  ARG TRP GLU HIS GLY ASP GLY TYR PRO PHE ASP GLY LYS          \\n',\n",
       " 'SEQRES   7 A  167  ASP GLY LEU LEU ALA HIS ALA PHE ALA PRO GLY THR GLY          \\n',\n",
       " 'SEQRES   8 A  167  VAL GLY GLY ASP SER HIS PHE ASP ASP ASP GLU LEU TRP          \\n',\n",
       " 'SEQRES   9 A  167  THR LEU GLY LYS GLY VAL GLY TYR SER LEU PHE LEU VAL          \\n',\n",
       " 'SEQRES  10 A  167  ALA ALA HIS ALA PHE GLY HIS ALA MET GLY LEU GLU HIS          \\n',\n",
       " 'SEQRES  11 A  167  SER GLN ASP PRO GLY ALA LEU MET ALA PRO ILE TYR THR          \\n',\n",
       " 'SEQRES  12 A  167  TYR THR LYS ASN PHE ARG LEU SER GLN ASP ASP ILE LYS          \\n',\n",
       " 'SEQRES  13 A  167  GLY ILE GLN GLU LEU TYR GLY ALA SER PRO ASP                  \\n',\n",
       " 'SEQRES   1 B   10  ILE SER TYR GLY ASN ASP ALA LEU MET PRO                      \\n']"
      ]
     },
     "execution_count": 191,
     "metadata": {},
     "output_type": "execute_result"
    }
   ],
   "source": [
    "extractChainSequences(lines)"
   ]
  },
  {
   "cell_type": "code",
   "execution_count": 192,
   "metadata": {},
   "outputs": [],
   "source": [
    "def chainSequence(allSequences):\n",
    "    \"\"\"general print sequences in all chains\"\"\"\n",
    "    residues = []\n",
    "    for line in allSequences:\n",
    "        oneLetterCode = {'GLY':'G', 'ALA':'A', 'VAL':'V', 'CYS':'C', 'PRO':'P', 'LEU':'L', 'ILE':'I', 'MET':'M', 'TRP':'W', 'PHE':'F', 'SER':'S', 'THR':'T', 'TYR':'Y', 'ASN':'N', 'GLN':'Q', 'LYS':'K', 'ARG':'R', 'HIS':'H', 'ASP':'D', 'GLU':'E'}\n",
    "        residues.extend(line[18:].split()) #splits the string into a list of residues after appending to the list of residues\n",
    "        chainSeq = '' .join([oneLetterCode[i] for i in residues]) #converts the 3 code residues to their corresponding 1 letter denotation\n",
    "    return chainSeq\n",
    "    return residues\n",
    "sequence = chainSequence(allSequences)"
   ]
  },
  {
   "cell_type": "code",
   "execution_count": 193,
   "metadata": {},
   "outputs": [
    {
     "data": {
      "text/plain": [
       "'YNFFPRKPKWDKNQITYRIIGYTPDLDPETVDDAFARAFQVWSDVTPLRFSRIHDGEADIMINFGRWEHGDGYPFDGKDGLLAHAFAPGTGVGGDSHFDDDELWTLGKGVGYSLFLVAAHAFGHAMGLEHSQDPGALMAPIYTYTKNFRLSQDDIKGIQELYGASPDISYGNDALMP'"
      ]
     },
     "execution_count": 193,
     "metadata": {},
     "output_type": "execute_result"
    }
   ],
   "source": [
    "chainSequence(allSequences)"
   ]
  },
  {
   "cell_type": "markdown",
   "metadata": {},
   "source": [
    "### Working functions for histogram"
   ]
  },
  {
   "cell_type": "code",
   "execution_count": null,
   "metadata": {},
   "outputs": [],
   "source": [
    "def main_histogram():\n",
    "    \"\"\"Main function. Calls the rest of the functions within the histogram option\"\"\"\n",
    "    order = orderingOption()\n",
    "    gen_sorted_residues_list(sequence, order)\n",
    "    "
   ]
  },
  {
   "cell_type": "code",
   "execution_count": 42,
   "metadata": {},
   "outputs": [],
   "source": [
    "def orderingOption():\n",
    "    \"\"\"prints the ordering options and gives the user an input cell. returns the input\"\"\"\n",
    "    print(\"\"\"\n",
    "     Choose an option to order by:\n",
    "         number of amino acids - ascending (an)\n",
    "         number of amino acids - descending (dn)\n",
    "         alphabetically - ascending (aa)\n",
    "         alphabetically - descending (da)\n",
    "    \"\"\")\n",
    "    order = input(\"order by: \")\n",
    "    return order"
   ]
  },
  {
   "cell_type": "code",
   "execution_count": 43,
   "metadata": {},
   "outputs": [
    {
     "name": "stdout",
     "output_type": "stream",
     "text": [
      "\n",
      "     Choose an option to order by:\n",
      "         number of amino acids - ascending (an)\n",
      "         number of amino acids - descending (dn)\n",
      "         alphabetically - ascending (aa)\n",
      "         alphabetically - descending (da)\n",
      "    \n"
     ]
    },
    {
     "name": "stdin",
     "output_type": "stream",
     "text": [
      "order by:  an\n"
     ]
    },
    {
     "data": {
      "text/plain": [
       "'an'"
      ]
     },
     "execution_count": 43,
     "metadata": {},
     "output_type": "execute_result"
    }
   ],
   "source": [
    "orderingOption()"
   ]
  },
  {
   "cell_type": "code",
   "execution_count": 196,
   "metadata": {},
   "outputs": [],
   "source": [
    "def gen_sorted_residues_list(sequence, order):\n",
    "    residues = ['G', 'A', 'V', 'C', 'P', 'L', 'I', 'M', 'W', 'F', 'S', 'T', 'Y', 'N', 'Q', 'K', 'R', 'H', 'D', 'E']\n",
    "    \n",
    "    if order.lower() in ('an','dn','aa','da'):\n",
    "        \n",
    "        if order.lower() == 'an':\n",
    "            aa_number = []\n",
    "            for residue in residues:\n",
    "                aa_number.append(sequence.count(residue))\n",
    "            aa_count_dict = dict((residue,aa) for residue,aa in zip(residues,aa_number))\n",
    "            aa_count_list = list(aa_count_dict.values())\n",
    "            \n",
    "            sorted_residues_an = []\n",
    "            for k,v in sorted(aa_count_dict.items(), key=lambda p:p[1]):\n",
    "                print(k,v)\n",
    "                sorted_residues_an.append(k)\n",
    "            print(sorted_residues_an)\n",
    "            \n",
    "        elif order.lower() == 'dn':\n",
    "            aa_number = []\n",
    "            for residue in residues:\n",
    "                aa_number.append(sequence.count(residue))\n",
    "            aa_count_dict = dict((residue,aa) for residue,aa in zip(residues,aa_number))\n",
    "            aa_count_list = list(aa_count_dict.values())\n",
    "           \n",
    "            sorted_residues_dn = []\n",
    "            for k,v in sorted(aa_count_dict.items(), key=lambda p:p[1], reverse=True):\n",
    "                print(k,v)\n",
    "                sorted_residues_dn.append(k)\n",
    "            print(sorted_residues_dn)\n",
    "            \n",
    "            \n",
    "        elif order.lower() == 'aa':\n",
    "            print(residues)\n",
    "            residues.sort()\n",
    "            print(residues)\n",
    "        else:\n",
    "            print(residues)\n",
    "            residues.sort(reverse=True)\n",
    "            print(residues)\n",
    "    else:\n",
    "       # \"call options function again\"\n",
    "        print(\"invalid input\")\n",
    "        pass"
   ]
  },
  {
   "cell_type": "code",
   "execution_count": 197,
   "metadata": {},
   "outputs": [
    {
     "name": "stdout",
     "output_type": "stream",
     "text": [
      "G 20\n",
      "D 20\n",
      "A 15\n",
      "L 13\n",
      "F 12\n",
      "P 11\n",
      "I 10\n",
      "Y 9\n",
      "S 8\n",
      "T 8\n",
      "K 7\n",
      "R 7\n",
      "H 7\n",
      "V 6\n",
      "E 6\n",
      "N 5\n",
      "Q 5\n",
      "M 4\n",
      "W 4\n",
      "C 0\n",
      "['G', 'D', 'A', 'L', 'F', 'P', 'I', 'Y', 'S', 'T', 'K', 'R', 'H', 'V', 'E', 'N', 'Q', 'M', 'W', 'C']\n"
     ]
    }
   ],
   "source": [
    "gen_sorted_residues_list(sequence, \"dn\")"
   ]
  },
  {
   "cell_type": "code",
   "execution_count": 229,
   "metadata": {},
   "outputs": [],
   "source": [
    "def draw_hist(sequence, sorted_residues):\n",
    "    oneLetterCode = {'G':'Gly', 'A':'Ala', 'V':'Val', 'C':'Cys', 'P':'Pro', 'L':'Leu', 'I':'Ile', 'M':'Met', 'W':'Trp', 'F':'Phe', 'S':'Ser', 'T':'Thr', 'Y':'Tyr', 'N':'Asn', 'Q':'Gln', 'K':'Lys', 'R':'Arg', 'H':'His', 'D':'Asp', 'E':'Glu'}\n",
    "    #residues = ['G', 'A', 'V', 'C', 'P', 'L', 'I', 'M', 'W', 'F', 'S', 'T', 'Y', 'N', 'Q', 'K', 'R', 'H', 'D', 'E']\n",
    "    for residue in sorted_residues:\n",
    "        freq = []\n",
    "        for i in sequence:\n",
    "            if residue == i:\n",
    "                l = oneLetterCode[i] \n",
    "                freq.append(l)\n",
    "        amino_acid = \"\".join(set(freq))\n",
    "        if residue in sequence:\n",
    "            print(amino_acid, \"(\", len(freq),\"):\", \"*\" * len(freq))\n",
    "        else:\n",
    "            pass"
   ]
  },
  {
   "cell_type": "code",
   "execution_count": 222,
   "metadata": {},
   "outputs": [
    {
     "name": "stdout",
     "output_type": "stream",
     "text": [
      "Met ( 4 ): ****\n",
      "Trp ( 4 ): ****\n",
      "Asn ( 5 ): *****\n",
      "Gln ( 5 ): *****\n",
      "Val ( 6 ): ******\n",
      "Glu ( 6 ): ******\n",
      "Lys ( 7 ): *******\n",
      "Arg ( 7 ): *******\n",
      "His ( 7 ): *******\n",
      "Ser ( 8 ): ********\n",
      "Thr ( 8 ): ********\n",
      "Tyr ( 9 ): *********\n",
      "Ile ( 10 ): **********\n",
      "Pro ( 11 ): ***********\n",
      "Phe ( 12 ): ************\n",
      "Leu ( 13 ): *************\n",
      "Ala ( 15 ): ***************\n",
      "Gly ( 20 ): ********************\n",
      "Asp ( 20 ): ********************\n"
     ]
    }
   ],
   "source": [
    "draw_hist(sequence,sorted_residues)"
   ]
  },
  {
   "cell_type": "code",
   "execution_count": 230,
   "metadata": {},
   "outputs": [
    {
     "name": "stdout",
     "output_type": "stream",
     "text": [
      "Met ( 4 ): ****\n",
      "Trp ( 4 ): ****\n",
      "Asn ( 5 ): *****\n",
      "Gln ( 5 ): *****\n",
      "Val ( 6 ): ******\n",
      "Glu ( 6 ): ******\n",
      "Lys ( 7 ): *******\n",
      "Arg ( 7 ): *******\n",
      "His ( 7 ): *******\n",
      "Ser ( 8 ): ********\n",
      "Thr ( 8 ): ********\n",
      "Tyr ( 9 ): *********\n",
      "Ile ( 10 ): **********\n",
      "Pro ( 11 ): ***********\n",
      "Phe ( 12 ): ************\n",
      "Leu ( 13 ): *************\n",
      "Ala ( 15 ): ***************\n",
      "Gly ( 20 ): ********************\n",
      "Asp ( 20 ): ********************\n"
     ]
    }
   ],
   "source": [
    "draw_hist(sequence,sorted_residues)"
   ]
  },
  {
   "cell_type": "code",
   "execution_count": null,
   "metadata": {},
   "outputs": [],
   "source": []
  },
  {
   "cell_type": "code",
   "execution_count": 219,
   "metadata": {},
   "outputs": [],
   "source": [
    "def gen_sorted_residues_list(sequence, order):\n",
    "    residues = ['G', 'A', 'V', 'C', 'P', 'L', 'I', 'M', 'W', 'F', 'S', 'T', 'Y', 'N', 'Q', 'K', 'R', 'H', 'D', 'E']\n",
    "    \n",
    "    if order.lower() in ('an','dn','aa','da'):\n",
    "        \n",
    "        if order.lower() == 'an':\n",
    "            aa_number = []\n",
    "            for residue in residues:\n",
    "                aa_number.append(sequence.count(residue))\n",
    "            aa_count_dict = dict((residue,aa) for residue,aa in zip(residues,aa_number))\n",
    "            aa_count_list = list(aa_count_dict.values())\n",
    "            \n",
    "            residues= []\n",
    "            for k,v in sorted(aa_count_dict.items(), key=lambda p:p[1]):\n",
    "                residues.append(k)\n",
    "            return residues\n",
    "            \n",
    "        elif order.lower() == 'dn':\n",
    "            aa_number = []\n",
    "            for residue in residues:\n",
    "                aa_number.append(sequence.count(residue))\n",
    "            aa_count_dict = dict((residue,aa) for residue,aa in zip(residues,aa_number))\n",
    "            aa_count_list = list(aa_count_dict.values())\n",
    "           \n",
    "            residues = []\n",
    "            for k,v in sorted(aa_count_dict.items(), key=lambda p:p[1], reverse=True):\n",
    "                residues.append(k)\n",
    "            return residues\n",
    "            \n",
    "        elif order.lower() == 'aa':\n",
    "            residues.sort()\n",
    "            return residues\n",
    "        else:\n",
    "            residues.sort(reverse=True)\n",
    "            return residues\n",
    "    else:\n",
    "       # \"call options function again\"\n",
    "        print(\"invalid input\")\n",
    "        pass\n",
    "sorted_residues = gen_sorted_residues_list(sequence, order)"
   ]
  },
  {
   "cell_type": "code",
   "execution_count": 227,
   "metadata": {},
   "outputs": [
    {
     "data": {
      "text/plain": [
       "['C',\n",
       " 'M',\n",
       " 'W',\n",
       " 'N',\n",
       " 'Q',\n",
       " 'V',\n",
       " 'E',\n",
       " 'K',\n",
       " 'R',\n",
       " 'H',\n",
       " 'S',\n",
       " 'T',\n",
       " 'Y',\n",
       " 'I',\n",
       " 'P',\n",
       " 'F',\n",
       " 'L',\n",
       " 'A',\n",
       " 'G',\n",
       " 'D']"
      ]
     },
     "execution_count": 227,
     "metadata": {},
     "output_type": "execute_result"
    }
   ],
   "source": [
    "gen_sorted_residues_list(sequence, \"an\")"
   ]
  },
  {
   "cell_type": "code",
   "execution_count": 228,
   "metadata": {},
   "outputs": [
    {
     "data": {
      "text/plain": [
       "['G',\n",
       " 'D',\n",
       " 'A',\n",
       " 'L',\n",
       " 'F',\n",
       " 'P',\n",
       " 'I',\n",
       " 'Y',\n",
       " 'S',\n",
       " 'T',\n",
       " 'K',\n",
       " 'R',\n",
       " 'H',\n",
       " 'V',\n",
       " 'E',\n",
       " 'N',\n",
       " 'Q',\n",
       " 'M',\n",
       " 'W',\n",
       " 'C']"
      ]
     },
     "execution_count": 228,
     "metadata": {},
     "output_type": "execute_result"
    }
   ],
   "source": [
    "gen_sorted_residues_list(sequence, \"dn\")"
   ]
  },
  {
   "cell_type": "code",
   "execution_count": null,
   "metadata": {},
   "outputs": [],
   "source": []
  }
 ],
 "metadata": {
  "kernelspec": {
   "display_name": "Python 3",
   "language": "python",
   "name": "python3"
  },
  "language_info": {
   "codemirror_mode": {
    "name": "ipython",
    "version": 3
   },
   "file_extension": ".py",
   "mimetype": "text/x-python",
   "name": "python",
   "nbconvert_exporter": "python",
   "pygments_lexer": "ipython3",
   "version": "3.7.2"
  }
 },
 "nbformat": 4,
 "nbformat_minor": 2
}
