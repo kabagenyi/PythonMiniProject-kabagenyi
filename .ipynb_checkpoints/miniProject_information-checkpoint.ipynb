{
 "cells": [
  {
   "cell_type": "markdown",
   "metadata": {},
   "source": [
    "### What the info output should look like"
   ]
  },
  {
   "cell_type": "code",
   "execution_count": null,
   "metadata": {},
   "outputs": [],
   "source": [
    ":I\n",
    " PDB File: 3AYU.pdb\n",
    "Title: CRYSTAL STRUCTURE OF MMP-2 ACTIVE SITE MUTANT IN COMPLEX WITH APP-DRIVED\n",
    "DECAPEPTIDE INHIBITOR\n",
    "CHAINS: A and B\n",
    "- Chain A\n",
    "Number of amino acids: 167\n",
    "Number of helix:           3\n",
    "Number of sheet:           9\n",
    "Sequence: YNFFPRKPKWDKNQITYRIIGYTPDLDPETVDDAFARAFQVWSDVTPLRF\n",
    "SRIHDGEADIMINFGRWEHGDGYPFDGKDGLLAHAFAPGTGVGGDSHFDD\n",
    "DELWTLGKGVGYSLFLVAAHAFGHAMGLEHSQDPGALMAPIYTYTKNFRL\n",
    "SQDDIKGIQELYGASPD\n",
    "- Chain B\n",
    "Number of amino acids: 10\n",
    "Number of helix:           0\n",
    "Number of sheet:           1\n",
    "Sequence: ISYGNDALMP"
   ]
  },
  {
   "cell_type": "markdown",
   "metadata": {},
   "source": [
    "### The functions for each task"
   ]
  },
  {
   "cell_type": "code",
   "execution_count": 1,
   "metadata": {},
   "outputs": [],
   "source": [
    "def print_menu():\n",
    "    print(\n",
    "\"\"\"\n",
    "********************************************************************************\n",
    "* PDB FILE ANALYZER                                                            *\n",
    "********************************************************************************\n",
    "* Select an option from below:                                                 *\n",
    "*                                                                              *\n",
    "*      1) Open a PDB File                      (O)                             *\n",
    "*      2) Information                          (I)                             *\n",
    "*      3) Show histogram of amino acids        (H)                             *\n",
    "*      4) Display Secondary Structure          (S)                             *\n",
    "*      5) Export PDB File                      (X)                             *\n",
    "*      6) Exit                                 (Q)                             *\n",
    "*                                                                              *\n",
    "*                                                            Current PDB: None *\n",
    "********************************************************************************\n",
    "\"\"\")\n",
    "    option = input(\": \")\n",
    "    return option"
   ]
  },
  {
   "cell_type": "code",
   "execution_count": 25,
   "metadata": {},
   "outputs": [],
   "source": [
    "def open_file(file):\n",
    "    \"\"\"open file and extract lines\"\"\"\n",
    "    with open(file) as myfile:\n",
    "        lines = myfile.readlines()\n",
    "    return lines\n",
    "\n"
   ]
  },
  {
   "cell_type": "code",
   "execution_count": 26,
   "metadata": {},
   "outputs": [],
   "source": [
    "lines = open_file(\"3AYU.pdb\")"
   ]
  },
  {
   "cell_type": "code",
   "execution_count": 27,
   "metadata": {},
   "outputs": [],
   "source": [
    "def title_print(lines):\n",
    "    \"\"\"print title of the protein\"\"\"\n",
    "    title_string = \"\"\n",
    "    for line in lines:\n",
    "        if line.startswith(\"TITLE\"):\n",
    "            title_string = title_string + line[9:].strip()\n",
    "    print(\"Title : \" , title_string)"
   ]
  },
  {
   "cell_type": "code",
   "execution_count": 28,
   "metadata": {},
   "outputs": [
    {
     "name": "stdout",
     "output_type": "stream",
     "text": [
      "Title :  CRYSTAL STRUCTURE OF MMP-2 ACTIVE SITE MUTANT IN COMPLEX WITH APP-2 DRIVED DECAPEPTIDE INHIBITOR\n"
     ]
    }
   ],
   "source": [
    "title_print(lines)"
   ]
  },
  {
   "cell_type": "code",
   "execution_count": 29,
   "metadata": {},
   "outputs": [],
   "source": [
    "def sheet_num(lines):\n",
    "    \"\"\"counts number of sheets (all chains)\"\"\"\n",
    "    sheet = []\n",
    "    for line in lines:\n",
    "        if line.startswith('SHEET'):\n",
    "            sheet.append(line[0:])\n",
    "    num = len(sheet)\n",
    "    print(\"Number of sheet: \", num)"
   ]
  },
  {
   "cell_type": "code",
   "execution_count": 30,
   "metadata": {},
   "outputs": [
    {
     "name": "stdout",
     "output_type": "stream",
     "text": [
      "Number of sheet:  10\n"
     ]
    }
   ],
   "source": [
    "sheet_num(lines)"
   ]
  },
  {
   "cell_type": "code",
   "execution_count": 31,
   "metadata": {},
   "outputs": [],
   "source": [
    "def helix_num(lines):\n",
    "    \"\"\"count number of helices(all chains)\"\"\"\n",
    "    helix = []\n",
    "    for line in lines:\n",
    "        if line.startswith('HELIX'):\n",
    "            helix.append(line[0:])\n",
    "    num = len(helix)\n",
    "    print(\"Number of helix: \", num)"
   ]
  },
  {
   "cell_type": "code",
   "execution_count": 32,
   "metadata": {},
   "outputs": [
    {
     "name": "stdout",
     "output_type": "stream",
     "text": [
      "Number of helix:  3\n"
     ]
    }
   ],
   "source": [
    "helix_num(lines)"
   ]
  },
  {
   "cell_type": "code",
   "execution_count": 36,
   "metadata": {},
   "outputs": [],
   "source": [
    "def extract_chain_sequences(lines):\n",
    "    \"\"\"extract all the sequence residue lines from the file\"\"\"\n",
    "    seq = []\n",
    "    for line in lines:\n",
    "        if line.startswith('SEQRES'):\n",
    "            seq.append(line[0:])\n",
    "    return seq\n",
    "all_sequences = extract_chain_sequences(lines)"
   ]
  },
  {
   "cell_type": "code",
   "execution_count": 37,
   "metadata": {},
   "outputs": [
    {
     "data": {
      "text/plain": [
       "['SEQRES   1 A  167  TYR ASN PHE PHE PRO ARG LYS PRO LYS TRP ASP LYS ASN          \\n',\n",
       " 'SEQRES   2 A  167  GLN ILE THR TYR ARG ILE ILE GLY TYR THR PRO ASP LEU          \\n',\n",
       " 'SEQRES   3 A  167  ASP PRO GLU THR VAL ASP ASP ALA PHE ALA ARG ALA PHE          \\n',\n",
       " 'SEQRES   4 A  167  GLN VAL TRP SER ASP VAL THR PRO LEU ARG PHE SER ARG          \\n',\n",
       " 'SEQRES   5 A  167  ILE HIS ASP GLY GLU ALA ASP ILE MET ILE ASN PHE GLY          \\n',\n",
       " 'SEQRES   6 A  167  ARG TRP GLU HIS GLY ASP GLY TYR PRO PHE ASP GLY LYS          \\n',\n",
       " 'SEQRES   7 A  167  ASP GLY LEU LEU ALA HIS ALA PHE ALA PRO GLY THR GLY          \\n',\n",
       " 'SEQRES   8 A  167  VAL GLY GLY ASP SER HIS PHE ASP ASP ASP GLU LEU TRP          \\n',\n",
       " 'SEQRES   9 A  167  THR LEU GLY LYS GLY VAL GLY TYR SER LEU PHE LEU VAL          \\n',\n",
       " 'SEQRES  10 A  167  ALA ALA HIS ALA PHE GLY HIS ALA MET GLY LEU GLU HIS          \\n',\n",
       " 'SEQRES  11 A  167  SER GLN ASP PRO GLY ALA LEU MET ALA PRO ILE TYR THR          \\n',\n",
       " 'SEQRES  12 A  167  TYR THR LYS ASN PHE ARG LEU SER GLN ASP ASP ILE LYS          \\n',\n",
       " 'SEQRES  13 A  167  GLY ILE GLN GLU LEU TYR GLY ALA SER PRO ASP                  \\n',\n",
       " 'SEQRES   1 B   10  ILE SER TYR GLY ASN ASP ALA LEU MET PRO                      \\n']"
      ]
     },
     "execution_count": 37,
     "metadata": {},
     "output_type": "execute_result"
    }
   ],
   "source": [
    "extract_chain_sequences(lines)"
   ]
  },
  {
   "cell_type": "code",
   "execution_count": 38,
   "metadata": {},
   "outputs": [],
   "source": [
    "def collect_chain_ids(all_sequences):\n",
    "    \"\"\"identify chains in protein\"\"\"\n",
    "    chains = []\n",
    "    for line in all_sequences:\n",
    "        if line[11] not in chains:\n",
    "            chains.append(line[11])\n",
    "    return chains\n",
    "chains_in_prot = collect_chain_ids(all_sequences)"
   ]
  },
  {
   "cell_type": "code",
   "execution_count": 39,
   "metadata": {},
   "outputs": [
    {
     "data": {
      "text/plain": [
       "['A', 'B']"
      ]
     },
     "execution_count": 39,
     "metadata": {},
     "output_type": "execute_result"
    }
   ],
   "source": [
    "collect_chain_ids(all_sequences)"
   ]
  },
  {
   "cell_type": "code",
   "execution_count": 40,
   "metadata": {},
   "outputs": [],
   "source": [
    "def print_chains(chains_in_prot):\n",
    "    \"\"\"print chains in protein\"\"\"\n",
    "    x = '' .join(chains_in_prot)\n",
    "    print(\"- Chains:\", x[0], \"and\", x[1])\n",
    "    "
   ]
  },
  {
   "cell_type": "code",
   "execution_count": 41,
   "metadata": {},
   "outputs": [
    {
     "name": "stdout",
     "output_type": "stream",
     "text": [
      "- Chains: A and B\n"
     ]
    }
   ],
   "source": [
    "print_chains(chains_in_prot)"
   ]
  },
  {
   "cell_type": "code",
   "execution_count": 42,
   "metadata": {},
   "outputs": [],
   "source": [
    "def chain_sequence(all_sequences):\n",
    "    \"\"\"general print sequences in all chains\"\"\"\n",
    "    residues = []\n",
    "    for line in all_sequences:\n",
    "        one_letter_code = {'GLY':'G', 'ALA':'A', 'VAL':'V', 'CYS':'C', 'PRO':'P', 'LEU':'L', 'ILE':'I',\\\n",
    "                           'MET':'M', 'TRP':'W', 'PHE':'F', 'SER':'S', 'THR':'T', 'TYR':'Y', 'ASN':'N', \\\n",
    "                           'GLN':'Q', 'LYS':'K', 'ARG':'R', 'HIS':'H', 'ASP':'D', 'GLU':'E'}\n",
    "        residues.extend(line[18:].split()) #splits the string into a list of residues after appending to the list of residues\n",
    "        chain_seq = '' .join([one_letter_code[i] for i in residues]) #converts the 3 code residues to their corresponding 1 letter denotation\n",
    "    return chain_seq\n",
    "sequence = chain_sequence(all_sequences)"
   ]
  },
  {
   "cell_type": "code",
   "execution_count": 43,
   "metadata": {},
   "outputs": [
    {
     "data": {
      "text/plain": [
       "'YNFFPRKPKWDKNQITYRIIGYTPDLDPETVDDAFARAFQVWSDVTPLRFSRIHDGEADIMINFGRWEHGDGYPFDGKDGLLAHAFAPGTGVGGDSHFDDDELWTLGKGVGYSLFLVAAHAFGHAMGLEHSQDPGALMAPIYTYTKNFRLSQDDIKGIQELYGASPDISYGNDALMP'"
      ]
     },
     "execution_count": 43,
     "metadata": {},
     "output_type": "execute_result"
    }
   ],
   "source": [
    "chain_sequence(all_sequences)"
   ]
  },
  {
   "cell_type": "code",
   "execution_count": 44,
   "metadata": {},
   "outputs": [],
   "source": [
    "def print_aa_num(sequence):\n",
    "    \"\"\"print number of amino acids\"\"\"\n",
    "    chain_seq = sequence\n",
    "    print(\"Number of amino acids:\", len(chain_seq))"
   ]
  },
  {
   "cell_type": "code",
   "execution_count": 45,
   "metadata": {},
   "outputs": [
    {
     "name": "stdout",
     "output_type": "stream",
     "text": [
      "Number of amino acids: 177\n"
     ]
    }
   ],
   "source": [
    "print_aa_num(sequence)"
   ]
  },
  {
   "cell_type": "code",
   "execution_count": 46,
   "metadata": {},
   "outputs": [],
   "source": [
    "def print_seq(sequence):\n",
    "    \"\"\"print the amino acid sequence\"\"\"\n",
    "    chain_seq = sequence\n",
    "    print(\"Sequence:\", chain_seq)"
   ]
  },
  {
   "cell_type": "code",
   "execution_count": 47,
   "metadata": {},
   "outputs": [
    {
     "name": "stdout",
     "output_type": "stream",
     "text": [
      "Sequence: YNFFPRKPKWDKNQITYRIIGYTPDLDPETVDDAFARAFQVWSDVTPLRFSRIHDGEADIMINFGRWEHGDGYPFDGKDGLLAHAFAPGTGVGGDSHFDDDELWTLGKGVGYSLFLVAAHAFGHAMGLEHSQDPGALMAPIYTYTKNFRLSQDDIKGIQELYGASPDISYGNDALMP\n"
     ]
    }
   ],
   "source": [
    "print_seq(sequence)"
   ]
  },
  {
   "cell_type": "code",
   "execution_count": 48,
   "metadata": {},
   "outputs": [],
   "source": [
    "def caller(all_sequences, chains_in_prot):\n",
    "    \"\"\"boss function to call the rest into action, for evry chain in the chain list\"\"\"\n",
    "    title_print(lines)\n",
    "    for chain in chains_in_prot:\n",
    "        print(\"- Chain \", chain)\n",
    "        chain_sequence(all_sequences)\n",
    "        helix_num(lines)\n",
    "        sheet_num(lines)\n",
    "        print_seq(sequence)     "
   ]
  },
  {
   "cell_type": "code",
   "execution_count": 50,
   "metadata": {},
   "outputs": [
    {
     "name": "stdout",
     "output_type": "stream",
     "text": [
      "Title :  CRYSTAL STRUCTURE OF MMP-2 ACTIVE SITE MUTANT IN COMPLEX WITH APP-2 DRIVED DECAPEPTIDE INHIBITOR\n",
      "- Chain  A\n",
      "Number of helix:  3\n",
      "Number of sheet:  10\n",
      "Sequence: YNFFPRKPKWDKNQITYRIIGYTPDLDPETVDDAFARAFQVWSDVTPLRFSRIHDGEADIMINFGRWEHGDGYPFDGKDGLLAHAFAPGTGVGGDSHFDDDELWTLGKGVGYSLFLVAAHAFGHAMGLEHSQDPGALMAPIYTYTKNFRLSQDDIKGIQELYGASPDISYGNDALMP\n",
      "- Chain  B\n",
      "Number of helix:  3\n",
      "Number of sheet:  10\n",
      "Sequence: YNFFPRKPKWDKNQITYRIIGYTPDLDPETVDDAFARAFQVWSDVTPLRFSRIHDGEADIMINFGRWEHGDGYPFDGKDGLLAHAFAPGTGVGGDSHFDDDELWTLGKGVGYSLFLVAAHAFGHAMGLEHSQDPGALMAPIYTYTKNFRLSQDDIKGIQELYGASPDISYGNDALMP\n"
     ]
    }
   ],
   "source": [
    "def main_info():\n",
    "    \"\"\"main function\"\"\"\n",
    "    caller(all_sequences, chains_in_prot)\n",
    "main_info() "
   ]
  },
  {
   "cell_type": "code",
   "execution_count": null,
   "metadata": {},
   "outputs": [],
   "source": []
  },
  {
   "cell_type": "markdown",
   "metadata": {},
   "source": [
    "### Stand alone information summary function"
   ]
  },
  {
   "cell_type": "code",
   "execution_count": 54,
   "metadata": {},
   "outputs": [],
   "source": [
    "def pdb_info(all_sequences, chains_in_prot):\n",
    "    title_print(lines)\n",
    "    for chain in chains_in_prot:\n",
    "        print(\"- Chain \", chain)\n",
    "        \n",
    "        residues = []\n",
    "        for line in all_sequences:\n",
    "            if line[11] == chain:\n",
    "                one_letter_code = {'GLY':'G', 'ALA':'A', 'VAL':'V', 'CYS':'C', 'PRO':'P', 'LEU':'L',\\\n",
    "                                   'ILE':'I', 'MET':'M', 'TRP':'W', 'PHE':'F', 'SER':'S', 'THR':'T',\\\n",
    "                                   'TYR':'Y', 'ASN':'N', 'GLN':'Q', 'LYS':'K', 'ARG':'R', 'HIS':'H',\\\n",
    "                                   'ASP':'D', 'GLU':'E'}\n",
    "                residues.extend(line[18:].split()) #splits the string into a list of residues after appending to the list of residues\n",
    "                chain_seq = '' .join([one_letter_code[i] for i in residues])#converts the 3 code residues to their corresponding 1 letter denotation\n",
    "                \n",
    "                helix = []\n",
    "                for line in lines:\n",
    "                    if line.startswith('HELIX') and line[19] == chain:\n",
    "                        helix.append(line[0:])\n",
    "                numb = len(helix)\n",
    "                \n",
    "                sheet = []\n",
    "                for line in lines:\n",
    "                    if line.startswith('SHEET') and line[21] == chain:\n",
    "                        sheet.append(line[0:])\n",
    "                num = len(sheet)\n",
    "                \n",
    "        print(\"Number of amino acids:\", len(chain_seq))\n",
    "        print(\"Number of helix: \", numb)\n",
    "        print(\"Number of sheet: \", num)\n",
    "        print(\"Sequence:\", '\\n'.join(''.join(chain_seq[i:i+50]) for i in range(0, len(chain_seq), 50)))"
   ]
  },
  {
   "cell_type": "code",
   "execution_count": 55,
   "metadata": {},
   "outputs": [
    {
     "name": "stdout",
     "output_type": "stream",
     "text": [
      "Title :  CRYSTAL STRUCTURE OF MMP-2 ACTIVE SITE MUTANT IN COMPLEX WITH APP-2 DRIVED DECAPEPTIDE INHIBITOR\n",
      "- Chain  A\n",
      "Number of amino acids: 167\n",
      "Number of helix:  3\n",
      "Number of sheet:  9\n",
      "Sequence: YNFFPRKPKWDKNQITYRIIGYTPDLDPETVDDAFARAFQVWSDVTPLRF\n",
      "SRIHDGEADIMINFGRWEHGDGYPFDGKDGLLAHAFAPGTGVGGDSHFDD\n",
      "DELWTLGKGVGYSLFLVAAHAFGHAMGLEHSQDPGALMAPIYTYTKNFRL\n",
      "SQDDIKGIQELYGASPD\n",
      "- Chain  B\n",
      "Number of amino acids: 10\n",
      "Number of helix:  0\n",
      "Number of sheet:  1\n",
      "Sequence: ISYGNDALMP\n"
     ]
    }
   ],
   "source": [
    "def main_info_function():\n",
    "    \"\"\"The information summary boss function\"\"\"\n",
    "    pdb_info(all_sequences, chains_in_prot)\n",
    "    #print_menu()\n",
    "main_info_function() "
   ]
  },
  {
   "cell_type": "markdown",
   "metadata": {},
   "source": [
    "### Pending stuff\n",
    "\n",
    "#### Done"
   ]
  },
  {
   "cell_type": "code",
   "execution_count": null,
   "metadata": {},
   "outputs": [],
   "source": []
  }
 ],
 "metadata": {
  "kernelspec": {
   "display_name": "Python 3",
   "language": "python",
   "name": "python3"
  },
  "language_info": {
   "codemirror_mode": {
    "name": "ipython",
    "version": 3
   },
   "file_extension": ".py",
   "mimetype": "text/x-python",
   "name": "python",
   "nbconvert_exporter": "python",
   "pygments_lexer": "ipython3",
   "version": "3.7.2"
  }
 },
 "nbformat": 4,
 "nbformat_minor": 2
}
