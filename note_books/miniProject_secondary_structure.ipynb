{
 "cells": [
  {
   "cell_type": "markdown",
   "metadata": {},
   "source": [
    "Display Secondary Structure:\n",
    "\n",
    "For each chain in the loaded pdb,print a representation of the secondary structure \n",
    "\n",
    "using the character \n",
    "‘/’ to represent an amino acid that is part of a helix, \n",
    "‘|’ for one that is part of a sheet, and \n",
    "‘-’ for any other. \n",
    "\n",
    "Each line should have a maximum of 80 characters. \n",
    "\n",
    "Over the representation, the sequence should be displayed, and under it, a tag indicating the identifier of the substructure should be aligned.\n"
   ]
  },
  {
   "cell_type": "markdown",
   "metadata": {},
   "source": [
    ":S\n",
    "\n",
    "Secondary Structure of the PDB id 3AYU:\n",
    "\n",
    "Chain A:\n",
    "(1)\n",
    "YNFFPRKPKWDKNQITYRIIGYTPDLDPETVDDAFARAFQVWSDVTPLRFSRIHDGEADIMINFGRWEHGDGYPFDGKDG\n",
    "-||----------||||||-------//////////////////----||||-------||||||---------------\n",
    " 1A          2B           1                     1B         3B\n",
    "\n",
    " LLAHAFAPGTGVGGDSHFDDDELWTLGKGVGYSLFLVAAHAFGHAMGLEHSQDPGALMAPIYTYTKNFRLSQDDIKGIQE\n",
    " --||||---------||||----||------||/////////////-||---------------------//////////\n",
    "   5B           4B      1C      2C2             2A                     3\n",
    " \n",
    "LYGASPD\n",
    "///----\n",
    "\n",
    "(167)\n",
    "\n",
    " Chain B:\n",
    " (1)\n",
    " ISYGNDALMP\n",
    " ------||--\n",
    "       6B\n",
    " (10)\n",
    " "
   ]
  },
  {
   "cell_type": "raw",
   "metadata": {},
   "source": []
  },
  {
   "cell_type": "markdown",
   "metadata": {},
   "source": [
    "### Fundtions form else where needed here"
   ]
  },
  {
   "cell_type": "code",
   "execution_count": null,
   "metadata": {},
   "outputs": [],
   "source": [
    "def print_menu():\n",
    "    print(\n",
    "\"\"\"\n",
    "********************************************************************************\n",
    "* PDB FILE ANALYZER                                                            *\n",
    "********************************************************************************\n",
    "* Select an option from below:                                                 *\n",
    "*                                                                              *\n",
    "*      1) Open a PDB File                      (O)                             *\n",
    "*      2) Information                          (I)                             *\n",
    "*      3) Show histogram of amino acids        (H)                             *\n",
    "*      4) Display Secondary Structure          (S)                             *\n",
    "*      5) Export PDB File                      (X)                             *\n",
    "*      6) Exit                                 (Q)                             *\n",
    "*                                                                              *\n",
    "*                                                            Current PDB: None *\n",
    "********************************************************************************\n",
    "\"\"\")\n",
    "    option = input(\": \")\n",
    "    return option"
   ]
  },
  {
   "cell_type": "code",
   "execution_count": 59,
   "metadata": {},
   "outputs": [],
   "source": [
    "def open_file(file):\n",
    "    \"\"\"open file and extract lines\"\"\"\n",
    "    with open(file) as myfile:\n",
    "        lines = myfile.readlines()\n",
    "    return lines\n"
   ]
  },
  {
   "cell_type": "code",
   "execution_count": 60,
   "metadata": {},
   "outputs": [],
   "source": [
    "lines = open_file(\"3AYU.pdb\")"
   ]
  },
  {
   "cell_type": "code",
   "execution_count": 61,
   "metadata": {},
   "outputs": [],
   "source": [
    "def extract_chain_sequences(lines):\n",
    "    \"\"\"extract all the sequence residue lines from the file\"\"\"\n",
    "    seq = []\n",
    "    for line in lines:\n",
    "        if line.startswith('SEQRES'):\n",
    "            seq.append(line[0:])\n",
    "    return seq\n",
    "all_sequences = extract_chain_sequences(lines)"
   ]
  },
  {
   "cell_type": "code",
   "execution_count": 62,
   "metadata": {},
   "outputs": [
    {
     "data": {
      "text/plain": [
       "['SEQRES   1 A  167  TYR ASN PHE PHE PRO ARG LYS PRO LYS TRP ASP LYS ASN          \\n',\n",
       " 'SEQRES   2 A  167  GLN ILE THR TYR ARG ILE ILE GLY TYR THR PRO ASP LEU          \\n',\n",
       " 'SEQRES   3 A  167  ASP PRO GLU THR VAL ASP ASP ALA PHE ALA ARG ALA PHE          \\n',\n",
       " 'SEQRES   4 A  167  GLN VAL TRP SER ASP VAL THR PRO LEU ARG PHE SER ARG          \\n',\n",
       " 'SEQRES   5 A  167  ILE HIS ASP GLY GLU ALA ASP ILE MET ILE ASN PHE GLY          \\n',\n",
       " 'SEQRES   6 A  167  ARG TRP GLU HIS GLY ASP GLY TYR PRO PHE ASP GLY LYS          \\n',\n",
       " 'SEQRES   7 A  167  ASP GLY LEU LEU ALA HIS ALA PHE ALA PRO GLY THR GLY          \\n',\n",
       " 'SEQRES   8 A  167  VAL GLY GLY ASP SER HIS PHE ASP ASP ASP GLU LEU TRP          \\n',\n",
       " 'SEQRES   9 A  167  THR LEU GLY LYS GLY VAL GLY TYR SER LEU PHE LEU VAL          \\n',\n",
       " 'SEQRES  10 A  167  ALA ALA HIS ALA PHE GLY HIS ALA MET GLY LEU GLU HIS          \\n',\n",
       " 'SEQRES  11 A  167  SER GLN ASP PRO GLY ALA LEU MET ALA PRO ILE TYR THR          \\n',\n",
       " 'SEQRES  12 A  167  TYR THR LYS ASN PHE ARG LEU SER GLN ASP ASP ILE LYS          \\n',\n",
       " 'SEQRES  13 A  167  GLY ILE GLN GLU LEU TYR GLY ALA SER PRO ASP                  \\n',\n",
       " 'SEQRES   1 B   10  ILE SER TYR GLY ASN ASP ALA LEU MET PRO                      \\n']"
      ]
     },
     "execution_count": 62,
     "metadata": {},
     "output_type": "execute_result"
    }
   ],
   "source": [
    "extract_chain_sequences(lines)"
   ]
  },
  {
   "cell_type": "code",
   "execution_count": 63,
   "metadata": {},
   "outputs": [],
   "source": [
    "def collect_chain_ids(all_sequences):\n",
    "    \"\"\"identify chains in protein\"\"\"\n",
    "    chains = []\n",
    "    for line in all_sequences:\n",
    "        if line[11] not in chains:\n",
    "            chains.append(line[11])\n",
    "    return chains"
   ]
  },
  {
   "cell_type": "code",
   "execution_count": null,
   "metadata": {},
   "outputs": [],
   "source": [
    "chains_in_prot = collect_chain_ids(all_sequences)"
   ]
  },
  {
   "cell_type": "markdown",
   "metadata": {},
   "source": [
    "### Working code"
   ]
  },
  {
   "cell_type": "code",
   "execution_count": 321,
   "metadata": {},
   "outputs": [
    {
     "name": "stdout",
     "output_type": "stream",
     "text": [
      "\n",
      "Chain A :\n",
      "\n",
      "YNFFPRKPKWDKNQITYRIIGYTPDLDPETVDDAFARAFQVWSDVTPLRFSRIHDGEADIMINFGRWEHGDGYPFDGKDG\n",
      "-||----------||||||-------//////////////////----||||-------||||||---------------\n",
      " 1A          2B           1                     1B         3B                   \n",
      "\n",
      "LLAHAFAPGTGVGGDSHFDDDELWTLGKGVGYSLFLVAAHAFGHAMGLEHSQDPGALMAPIYTYTKNFRLSQDDIKGIQE\n",
      "--||||---------||||----||------||/////////////-||---------------------//////////\n",
      "  5B           4B      1C      2C2             2A                     3         \n",
      "\n",
      "LYGASPD\n",
      "///----\n",
      "    \n",
      "(167)\n",
      "\n",
      "Chain B :\n",
      "\n",
      "ISYGNDALMP\n",
      "------||--\n",
      "      6B  \n",
      "(10)\n"
     ]
    }
   ],
   "source": [
    "for chain in chains_in_prot: # Adress a chain at a time from my unique chains list\n",
    "    print('\\n' + \"Chain\",chain,\":\")\n",
    "    \n",
    "    residues = [] # Initiate empty list for my residues per chain\n",
    "    count = 0\n",
    "    structure = [] # Initiate an empty list to create the secondary structure symbols as we move over our residue list once generated\n",
    "    tag =[]\n",
    "    for line in all_sequences: # Generate primary sequence of the chain\n",
    "         if line[11] == chain:\n",
    "            count = count+1\n",
    "            one_letter_code = {'GLY':'G', 'ALA':'A', 'VAL':'V', 'CYS':'C', 'PRO':'P', 'LEU':'L', 'ILE':'I',\\\n",
    "                    'MET':'M', 'TRP':'W', 'PHE':'F', 'SER':'S', 'THR':'T', 'TYR':'Y', 'ASN':'N', \\\n",
    "                    'GLN':'Q', 'LYS':'K', 'ARG':'R', 'HIS':'H', 'ASP':'D', 'GLU':'E'}\n",
    "            x = line[18:].split()\n",
    "            #print(x)\n",
    "            residues.extend(x) #splits the string into a list of residues after appending to the list of residues\n",
    "    chain_seq = '' .join([one_letter_code[i] for i in residues]) #converts the 3 code residues to their corresponding 1 letter denotation\n",
    "    for i in residues: #Fill the structure list with dashes ('-') as place holders per residue\n",
    "        structure.append(\"-\")\n",
    "        tag.append(\" \")\n",
    "    for line in lines: # Identify where each structure starts and ends using the secondary structure info in the pdb file\n",
    "        \n",
    "        if line.startswith('SHEET'): #Process for sheet part of the chain\n",
    "            new_line = line.split()\n",
    "            if new_line[5] == chain:\n",
    "                start = int(new_line[6])\n",
    "                stop = int(new_line[9])\n",
    "                num = (stop - start) +1\n",
    "                update_structure = num * \"|\" \n",
    "            \n",
    "                update_tag = (new_line[1] + new_line[2])\n",
    "                tag[start-1:start+1] = update_tag\n",
    "                structure[start - 1 : stop] = update_structure  \n",
    "            \n",
    "        if line.startswith('HELIX'): #process for helix part of chain\n",
    "            new_line = line.split()\n",
    "            if new_line[4] == chain:\n",
    "                start = int(new_line[5])\n",
    "                stop = int(new_line[8])\n",
    "                num = (stop - start) +1\n",
    "                update_structure = num * \"/\" \n",
    "                \n",
    "                update_tag = (new_line[1])\n",
    "                tag[start-1:start+1] = update_tag\n",
    "                structure[start - 1 : stop] = update_structure\n",
    "                   \n",
    "    for i in range(0, len(chain_seq),80):\n",
    "        \n",
    "        print('\\n' + ''.join(chain_seq[i:i+80]) + \\\n",
    "              '\\n' + ''.join(structure[i:i+80]) +\\\n",
    "              '\\n' + ''.join(tag[i:i+80]))\n",
    "    print(\"(%d)\" %(len(chain_seq)))"
   ]
  },
  {
   "cell_type": "markdown",
   "metadata": {},
   "source": [
    "### Working code turned into function"
   ]
  },
  {
   "cell_type": "code",
   "execution_count": null,
   "metadata": {},
   "outputs": [],
   "source": [
    "def sec_structure_generate(chains_in_prot, all_sequences,lines):\n",
    "    for chain in chains_in_prot: # Adress a chain at a time from my unique chains list\n",
    "    print('\\n' + \"Chain\",chain,\":\")\n",
    "    \n",
    "    residues = [] # Initiate empty list for my residues per chain\n",
    "    count = 0\n",
    "    structure = [] # Initiate an empty list to create the secondary structure symbols as we move over our residue list once generated\n",
    "    tag =[]\n",
    "    for line in all_sequences: # Generate primary sequence of the chain\n",
    "         if line[11] == chain:\n",
    "            count = count+1\n",
    "            one_letter_code = {'GLY':'G', 'ALA':'A', 'VAL':'V', 'CYS':'C', 'PRO':'P', 'LEU':'L', 'ILE':'I',\\\n",
    "                    'MET':'M', 'TRP':'W', 'PHE':'F', 'SER':'S', 'THR':'T', 'TYR':'Y', 'ASN':'N', \\\n",
    "                    'GLN':'Q', 'LYS':'K', 'ARG':'R', 'HIS':'H', 'ASP':'D', 'GLU':'E'}\n",
    "            x = line[18:].split()\n",
    "            #print(x)\n",
    "            residues.extend(x) #splits the string into a list of residues after appending to the list of residues\n",
    "    chain_seq = '' .join([one_letter_code[i] for i in residues]) #converts the 3 code residues to their corresponding 1 letter denotation\n",
    "    for i in residues: #Fill the structure list with dashes ('-') as place holders per residue\n",
    "        structure.append(\"-\")\n",
    "        tag.append(\" \")\n",
    "    for line in lines: # Identify where each structure starts and ends using the secondary structure info in the pdb file\n",
    "        \n",
    "        if line.startswith('SHEET'): #Process for sheet part of the chain\n",
    "            new_line = line.split()\n",
    "            if new_line[5] == chain:\n",
    "                start = int(new_line[6])\n",
    "                stop = int(new_line[9])\n",
    "                num = (stop - start) +1\n",
    "                update_structure = num * \"|\" \n",
    "            \n",
    "                update_tag = (new_line[1] + new_line[2])\n",
    "                tag[start-1:start+1] = update_tag\n",
    "                structure[start - 1 : stop] = update_structure  \n",
    "            \n",
    "        if line.startswith('HELIX'): #process for helix part of chain\n",
    "            new_line = line.split()\n",
    "            if new_line[4] == chain:\n",
    "                start = int(new_line[5])\n",
    "                stop = int(new_line[8])\n",
    "                num = (stop - start) +1\n",
    "                update_structure = num * \"/\" \n",
    "                \n",
    "                update_tag = (new_line[1])\n",
    "                tag[start-1:start+1] = update_tag\n",
    "                structure[start - 1 : stop] = update_structure\n",
    "                   \n",
    "    for i in range(0, len(chain_seq),80):\n",
    "        \n",
    "        print('\\n' + ''.join(chain_seq[i:i+80]) + \\\n",
    "              '\\n' + ''.join(structure[i:i+80]) +\\\n",
    "              '\\n' + ''.join(tag[i:i+80]))\n",
    "    print(\"(%d)\" %(len(chain_seq)))"
   ]
  },
  {
   "cell_type": "code",
   "execution_count": null,
   "metadata": {},
   "outputs": [],
   "source": []
  },
  {
   "cell_type": "code",
   "execution_count": 317,
   "metadata": {},
   "outputs": [
    {
     "ename": "NameError",
     "evalue": "name 'file' is not defined",
     "output_type": "error",
     "traceback": [
      "\u001b[0;31m---------------------------------------------------------------------------\u001b[0m",
      "\u001b[0;31mNameError\u001b[0m                                 Traceback (most recent call last)",
      "\u001b[0;32m<ipython-input-317-e316b50ce445>\u001b[0m in \u001b[0;36m<module>\u001b[0;34m\u001b[0m\n\u001b[1;32m      4\u001b[0m     \u001b[0mchains_in_prot\u001b[0m \u001b[0;34m=\u001b[0m \u001b[0mcollect_chain_ids\u001b[0m\u001b[0;34m(\u001b[0m\u001b[0mall_sequences\u001b[0m\u001b[0;34m)\u001b[0m\u001b[0;34m\u001b[0m\u001b[0;34m\u001b[0m\u001b[0m\n\u001b[1;32m      5\u001b[0m     \u001b[0msec_structure_generate\u001b[0m\u001b[0;34m(\u001b[0m\u001b[0mchains_in_prot\u001b[0m\u001b[0;34m,\u001b[0m \u001b[0mall_sequences\u001b[0m\u001b[0;34m,\u001b[0m\u001b[0mlines\u001b[0m\u001b[0;34m)\u001b[0m\u001b[0;34m\u001b[0m\u001b[0;34m\u001b[0m\u001b[0m\n\u001b[0;32m----> 6\u001b[0;31m \u001b[0mmain_sec_structure\u001b[0m\u001b[0;34m(\u001b[0m\u001b[0mfile\u001b[0m\u001b[0;34m)\u001b[0m\u001b[0;34m\u001b[0m\u001b[0;34m\u001b[0m\u001b[0m\n\u001b[0m",
      "\u001b[0;31mNameError\u001b[0m: name 'file' is not defined"
     ]
    }
   ],
   "source": [
    "def main_sec_structure(file):\n",
    "    lines = open_file(file)\n",
    "    all_sequences = extract_chain_sequences(lines)\n",
    "    chains_in_prot = collect_chain_ids(all_sequences)\n",
    "    sec_structure_generate(chains_in_prot, all_sequences,lines)\n",
    "main_sec_structure(file)"
   ]
  },
  {
   "cell_type": "code",
   "execution_count": null,
   "metadata": {},
   "outputs": [],
   "source": []
  },
  {
   "cell_type": "code",
   "execution_count": null,
   "metadata": {},
   "outputs": [],
   "source": []
  },
  {
   "cell_type": "code",
   "execution_count": null,
   "metadata": {},
   "outputs": [],
   "source": []
  },
  {
   "cell_type": "code",
   "execution_count": null,
   "metadata": {},
   "outputs": [],
   "source": []
  },
  {
   "cell_type": "code",
   "execution_count": 302,
   "metadata": {},
   "outputs": [
    {
     "name": "stdout",
     "output_type": "stream",
     "text": [
      "Chain A :\n",
      "YNFFPRKPKWDKNQITYRIIGYTPDLDPETVDDAFARAFQVWSDVTPLRFSRIHDGEADIMINFGRWEHGDGYPFDGKDG\n",
      "-||----------||||||-------//////////////////----||||-------||||||---------------\n",
      " 1A          2B           1                     1B         3B                   \n",
      "LLAHAFAPGTGVGGDSHFDDDELWTLGKGVGYSLFLVAAHAFGHAMGLEHSQDPGALMAPIYTYTKNFRLSQDDIKGIQE\n",
      "--||||---------||||----||------||/////////////-||---------------------//////////\n",
      "  5B           4B      1C      2C2             2A                     3         \n",
      "LYGASPD\n",
      "///----\n",
      "    \n",
      "Chain B :\n",
      "ISYGNDALMP\n",
      "------||--||||||||||||||||||||\n",
      "      6B  2C2C2C2C2C2C2C2C2C2C\n"
     ]
    }
   ],
   "source": [
    "for chain in chains_in_prot: # Adress a chain at a time from my unique chains list\n",
    "    print(\"Chain\",chain,\":\")\n",
    "    \n",
    "    residues = [] # Initiate empty list for my residues per chain\n",
    "    count = 0\n",
    "    structure = [] # Initiate an empty list to create the secondary structure symbols as we move over our residue list once generated\n",
    "    tag =[]\n",
    "    for line in all_sequences: # Generate primary sequence of the chain\n",
    "         if line[11] == chain:\n",
    "            count = count+1\n",
    "            one_letter_code = {'GLY':'G', 'ALA':'A', 'VAL':'V', 'CYS':'C', 'PRO':'P', 'LEU':'L', 'ILE':'I',\\\n",
    "                    'MET':'M', 'TRP':'W', 'PHE':'F', 'SER':'S', 'THR':'T', 'TYR':'Y', 'ASN':'N', \\\n",
    "                    'GLN':'Q', 'LYS':'K', 'ARG':'R', 'HIS':'H', 'ASP':'D', 'GLU':'E'}\n",
    "            x = line[18:].split()\n",
    "            #print(x)\n",
    "            residues.extend(x) #splits the string into a list of residues after appending to the list of residues\n",
    "    chain_seq = '' .join([one_letter_code[i] for i in residues]) #converts the 3 code residues to their corresponding 1 letter denotation\n",
    "    for i in residues: #Fill the structure list with dashes ('-') as place holders per residue\n",
    "        structure.append(\"-\")\n",
    "        tag.append(\" \")\n",
    "    for line in lines: # Identify where each structure starts and ends using the secondary structure info in the pdb file\n",
    "        \n",
    "        if line.startswith('SHEET'): #Process for sheet part of the chain\n",
    "            new_line = line.split()\n",
    "            if new_line[5] == chain:\n",
    "                start = int(new_line[6])\n",
    "                stop = int(new_line[9])\n",
    "                num = (stop - start) +1\n",
    "                update_structure = num * \"|\" \n",
    "            \n",
    "                update_tag = (new_line[1] + new_line[2])\n",
    "            tag[start-1:start+1] = update_tag\n",
    "            structure[start - 1 : stop] = update_structure  \n",
    "            \n",
    "        if line.startswith('HELIX'): #process for helix part of chain\n",
    "            new_line = line.split()\n",
    "            if new_line[4] == chain:\n",
    "                start = int(new_line[5])\n",
    "                stop = int(new_line[8])\n",
    "                num = (stop - start) +1\n",
    "                update_structure = num * \"/\" \n",
    "                \n",
    "                update_tag = (new_line[1])\n",
    "            tag[start-1:start+1] = update_tag\n",
    "            structure[start - 1 : stop] = update_structure\n",
    "            \n",
    "            \n",
    "    for i in range(0, len(chain_seq),80):\n",
    "        \n",
    "        print(''.join(chain_seq[i:i+80]) + '\\n'+\\\n",
    "              ''.join(structure[i:i+80]) +'\\n' +\\\n",
    "              ''.join(tag[i:i+80]))"
   ]
  },
  {
   "cell_type": "code",
   "execution_count": null,
   "metadata": {},
   "outputs": [],
   "source": []
  },
  {
   "cell_type": "code",
   "execution_count": null,
   "metadata": {},
   "outputs": [],
   "source": []
  },
  {
   "cell_type": "code",
   "execution_count": null,
   "metadata": {},
   "outputs": [],
   "source": []
  },
  {
   "cell_type": "code",
   "execution_count": null,
   "metadata": {},
   "outputs": [],
   "source": []
  },
  {
   "cell_type": "code",
   "execution_count": 268,
   "metadata": {},
   "outputs": [],
   "source": [
    "def chain_sequence(all_sequences):\n",
    "    \"\"\"general print sequences in all chains\"\"\"\n",
    "    residues = []\n",
    "    for line in all_sequences:\n",
    "        one_letter_code = {'GLY':'G', 'ALA':'A', 'VAL':'V', 'CYS':'C', 'PRO':'P', 'LEU':'L', 'ILE':'I',\\\n",
    "                           'MET':'M', 'TRP':'W', 'PHE':'F', 'SER':'S', 'THR':'T', 'TYR':'Y', 'ASN':'N', \\\n",
    "                           'GLN':'Q', 'LYS':'K', 'ARG':'R', 'HIS':'H', 'ASP':'D', 'GLU':'E'}\n",
    "        residues.extend(line[18:].split()) #splits the string into a list of residues after appending to the list of residue  \n",
    "        chain_seq = '' .join([one_letter_code[i] for i in residues]) #converts the 3 code residues to their corresponding 1 letter denotation\n",
    "    print('\\n'.join(''.join(chain_seq[i:i+80]) for i in range(0, len(chain_seq), 80)))\n",
    "    #return chain_seq"
   ]
  },
  {
   "cell_type": "code",
   "execution_count": 269,
   "metadata": {},
   "outputs": [
    {
     "name": "stdout",
     "output_type": "stream",
     "text": [
      "YNFFPRKPKWDKNQITYRIIGYTPDLDPETVDDAFARAFQVWSDVTPLRFSRIHDGEADIMINFGRWEHGDGYPFDGKDG\n",
      "LLAHAFAPGTGVGGDSHFDDDELWTLGKGVGYSLFLVAAHAFGHAMGLEHSQDPGALMAPIYTYTKNFRLSQDDIKGIQE\n",
      "LYGASPDISYGNDALMP\n"
     ]
    }
   ],
   "source": [
    "chain_sequence(all_sequences)"
   ]
  },
  {
   "cell_type": "code",
   "execution_count": 128,
   "metadata": {},
   "outputs": [],
   "source": []
  },
  {
   "cell_type": "code",
   "execution_count": null,
   "metadata": {},
   "outputs": [],
   "source": []
  },
  {
   "cell_type": "code",
   "execution_count": 4,
   "metadata": {},
   "outputs": [],
   "source": [
    "def intro_tittle(file_name):\n",
    "    \"\"\"print title of the secondary structure\"\"\"\n",
    "    print(\"Secondary Structure of the PDB id \"  , file_name , \": \")"
   ]
  },
  {
   "cell_type": "code",
   "execution_count": null,
   "metadata": {},
   "outputs": [],
   "source": []
  },
  {
   "cell_type": "code",
   "execution_count": null,
   "metadata": {},
   "outputs": [],
   "source": []
  },
  {
   "cell_type": "code",
   "execution_count": null,
   "metadata": {},
   "outputs": [],
   "source": []
  },
  {
   "cell_type": "code",
   "execution_count": null,
   "metadata": {},
   "outputs": [],
   "source": []
  },
  {
   "cell_type": "code",
   "execution_count": null,
   "metadata": {},
   "outputs": [],
   "source": []
  },
  {
   "cell_type": "code",
   "execution_count": null,
   "metadata": {},
   "outputs": [],
   "source": [
    "HELIX    1     1 ASP A   27 ASP A   44  1                                  18    \n",
    "HELIX    2     2 LEU A  114 MET A  126  1                                  13    \n",
    "HELIX    3     3 SER A  151 GLY A  163  1                                  13    \n",
    "SHEET    1   A 2 ASN A   2  PHE A   3   0                                        \n",
    "SHEET    2   A 2 LEU A  128 GLU A 129  -1  O  GLU A 129   N  ASN A   2           \n",
    "SHEET    1   B 6 ARG A  49  ARG A  52   0                                        \n",
    "SHEET    2   B 6 GLN A  14  ILE A  19   1  N  ILE A  15   O  ARG A  49           \n",
    "SHEET    3   B 6 ILE A  60  GLY A  65   1  O  ILE A  62   N  ARG A  18           \n",
    "SHEET    4   B 6 SER A  96  ASP A  99   1  O  PHE A  98   N  GLY A  65           \n",
    "SHEET    5   B 6 ALA A  83  PHE A  86  -1  N  HIS A  84   O  HIS A  97           \n",
    "SHEET    6   B 6 ALA B   7  LEU B   8   1  O  LEU B   8   N  ALA A  85           \n",
    "SHEET    1   C 2 TRP A 104  THR A 105   0                                        \n",
    "SHEET    2   C 2 TYR A 112  SER A 113   1  O  TYR A 112   N  THR A 105 "
   ]
  },
  {
   "cell_type": "code",
   "execution_count": null,
   "metadata": {},
   "outputs": [],
   "source": []
  },
  {
   "cell_type": "code",
   "execution_count": 225,
   "metadata": {},
   "outputs": [
    {
     "name": "stdout",
     "output_type": "stream",
     "text": [
      "- Chain  A\n",
      "[['HELIX', '1', '1', 'ASP', 'A', '27', 'ASP', 'A', '44'], ['HELIX', '2', '2', 'LEU', 'A', '114', 'MET', 'A', '126'], ['HELIX', '3', '3', 'SER', 'A', '151', 'GLY', 'A', '163'], ['SHEET', '1', 'A', '2', 'ASN', 'A', '2', 'PHE', 'A', '3'], ['SHEET', '2', 'A', '2', 'LEU', 'A', '128', 'GLU', 'A', '129'], ['SHEET', '1', 'B', '6', 'ARG', 'A', '49', 'ARG', 'A', '52'], ['SHEET', '2', 'B', '6', 'GLN', 'A', '14', 'ILE', 'A', '19'], ['SHEET', '3', 'B', '6', 'ILE', 'A', '60', 'GLY', 'A', '65'], ['SHEET', '4', 'B', '6', 'SER', 'A', '96', 'ASP', 'A', '99'], ['SHEET', '5', 'B', '6', 'ALA', 'A', '83', 'PHE', 'A', '86'], ['SHEET', '1', 'C', '2', 'TRP', 'A', '104', 'THR', 'A', '105'], ['SHEET', '2', 'C', '2', 'TYR', 'A', '112', 'SER', 'A', '113']]\n",
      "- Chain  B\n",
      "[['SHEET', '6', 'B', '6', 'ALA', 'B', '7', 'LEU', 'B', '8']]\n"
     ]
    }
   ],
   "source": [
    "for chain in chains_in_prot:\n",
    "    info_s = []\n",
    "    print(\"- Chain \", chain)\n",
    "    for line in lines:\n",
    "        new_line = line.split()\n",
    "        \n",
    "        if line.startswith('SHEET') and new_line[5] == chain:\n",
    "            info_s.append(new_line[0:10])\n",
    "        #info_s.sort(key=lambda x: int(x[6]))\n",
    "          \n",
    "        if line.startswith('HELIX') and new_line[4] == chain:\n",
    "            info_s.append(new_line[0:9]) \n",
    "        #info_h.sort(key=lambda x: int(x[5]))\n",
    "    print(info_s)\n",
    "        "
   ]
  },
  {
   "cell_type": "code",
   "execution_count": null,
   "metadata": {},
   "outputs": [],
   "source": []
  }
 ],
 "metadata": {
  "kernelspec": {
   "display_name": "Python 3",
   "language": "python",
   "name": "python3"
  },
  "language_info": {
   "codemirror_mode": {
    "name": "ipython",
    "version": 3
   },
   "file_extension": ".py",
   "mimetype": "text/x-python",
   "name": "python",
   "nbconvert_exporter": "python",
   "pygments_lexer": "ipython3",
   "version": "3.7.2"
  }
 },
 "nbformat": 4,
 "nbformat_minor": 2
}
