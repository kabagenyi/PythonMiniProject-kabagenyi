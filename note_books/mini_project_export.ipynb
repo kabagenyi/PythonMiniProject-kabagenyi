{
 "cells": [
  {
   "cell_type": "code",
   "execution_count": null,
   "metadata": {},
   "outputs": [],
   "source": [
    "export\n",
    "out_file_name = file + 'export'\n",
    "with open(out_file_name,\"w\") as myfile:\n",
    "    lines_to_transfer = open(file,\"r\")\n",
    "    for line in lines_to_transfer:\n",
    "        myfile.write(line)\n",
    "    file.close()\n",
    "    "
   ]
  }
 ],
 "metadata": {
  "kernelspec": {
   "display_name": "Python 3",
   "language": "python",
   "name": "python3"
  },
  "language_info": {
   "codemirror_mode": {
    "name": "ipython",
    "version": 3
   },
   "file_extension": ".py",
   "mimetype": "text/x-python",
   "name": "python",
   "nbconvert_exporter": "python",
   "pygments_lexer": "ipython3",
   "version": "3.7.2"
  }
 },
 "nbformat": 4,
 "nbformat_minor": 2
}
