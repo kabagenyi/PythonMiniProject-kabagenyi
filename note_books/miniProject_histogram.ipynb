{
 "cells": [
  {
   "cell_type": "raw",
   "metadata": {},
   "source": [
    "Choose an option to order by:\n",
    "    number of amino acids - ascending (an)\n",
    "    number of amino acids - descending (dn)\n",
    "    alphabetically - ascending (aa)\n",
    "    alphabetically - descending (da)\n",
    "order by: aa\n",
    "\n",
    "Ala ( 15) : ***************\n",
    "Arg (  7) : *******\n",
    "Asn( 5):*****\n",
    "Asp ( 20) : ********************\n",
    "Gln( 5):*****\n",
    "Glu (  6) : ******\n",
    "Gly ( 20) : ********************\n",
    "His (  7) : *******\n",
    "Ile ( 10) : **********\n",
    "Leu ( 13) : *************\n",
    "Lys (  7) : *******\n",
    "Met( 4):****\n",
    "Phe ( 12) : ************\n",
    "Pro ( 11) : ***********\n",
    "Ser (  8) : ********\n",
    "Thr (  8) : ********\n",
    "Trp( 4):****\n",
    "Tyr (  9) : *********\n",
    "Val (  6) : ******"
   ]
  },
  {
   "cell_type": "markdown",
   "metadata": {},
   "source": [
    "### Functions carried over from the previous options. Their outputs are re-used for this histogram function"
   ]
  },
  {
   "cell_type": "code",
   "execution_count": 18,
   "metadata": {},
   "outputs": [],
   "source": [
    "def print_menu():\n",
    "    print(\n",
    "\"\"\"\n",
    "********************************************************************************\n",
    "* PDB FILE ANALYZER                                                            *\n",
    "********************************************************************************\n",
    "* Select an option from below:                                                 *\n",
    "*                                                                              *\n",
    "*      1) Open a PDB File                      (O)                             *\n",
    "*      2) Information                          (I)                             *\n",
    "*      3) Show histogram of amino acids        (H)                             *\n",
    "*      4) Display Secondary Structure          (S)                             *\n",
    "*      5) Export PDB File                      (X)                             *\n",
    "*      6) Exit                                 (Q)                             *\n",
    "*                                                                              *\n",
    "*                                                            Current PDB: None *\n",
    "********************************************************************************\n",
    "\"\"\")\n",
    "    option = input(\": \")\n",
    "    return option"
   ]
  },
  {
   "cell_type": "code",
   "execution_count": 19,
   "metadata": {},
   "outputs": [],
   "source": [
    "def open_file(file):\n",
    "    \"\"\"open file and extract lines\"\"\"\n",
    "    with open(file) as myfile:\n",
    "        lines = myfile.readlines()\n",
    "    return lines"
   ]
  },
  {
   "cell_type": "code",
   "execution_count": 20,
   "metadata": {},
   "outputs": [],
   "source": [
    "lines= open_file(\"3AYU.pdb\")"
   ]
  },
  {
   "cell_type": "code",
   "execution_count": 21,
   "metadata": {},
   "outputs": [],
   "source": [
    "def extract_chain_sequences(lines):\n",
    "    \"\"\"extract all the sequence residue lines from the file\"\"\"\n",
    "    seq = []\n",
    "    for line in lines:\n",
    "        if line.startswith('SEQRES'):\n",
    "            seq.append(line[0:])\n",
    "    return seq\n",
    "all_sequences = extract_chain_sequences(lines)"
   ]
  },
  {
   "cell_type": "code",
   "execution_count": 22,
   "metadata": {},
   "outputs": [],
   "source": [
    "def chain_sequence(all_sequences):\n",
    "    \"\"\"general print sequences in all chains\"\"\"\n",
    "    residues = []\n",
    "    for line in all_sequences:\n",
    "        one_letter_code = {'GLY':'G', 'ALA':'A', 'VAL':'V', 'CYS':'C', 'PRO':'P', 'LEU':'L', 'ILE':'I', 'MET':'M', 'TRP':'W', 'PHE':'F', 'SER':'S', 'THR':'T', 'TYR':'Y', 'ASN':'N', 'GLN':'Q', 'LYS':'K', 'ARG':'R', 'HIS':'H', 'ASP':'D', 'GLU':'E'}\n",
    "        residues.extend(line[18:].split()) #splits the string into a list of residues after appending to the list of residues\n",
    "        chainSeq = '' .join([one_letter_code[i] for i in residues]) #converts the 3 code residues to their corresponding 1 letter denotation\n",
    "    return chainSeq\n",
    "    return residues\n",
    "sequence = chain_sequence(all_sequences)"
   ]
  },
  {
   "cell_type": "markdown",
   "metadata": {},
   "source": [
    "### Working functions for histogram"
   ]
  },
  {
   "cell_type": "code",
   "execution_count": 23,
   "metadata": {},
   "outputs": [],
   "source": [
    "def ordering_option():\n",
    "    \"\"\"prints the ordering options and gives the user an input cell. returns the input\"\"\"\n",
    "    print(\"\"\"\n",
    "     Choose an option to order by:\n",
    "         number of amino acids - ascending (an)\n",
    "         number of amino acids - descending (dn)\n",
    "         alphabetically - ascending (aa)\n",
    "         alphabetically - descending (da)\n",
    "    \"\"\")\n",
    "    choice = input(\"order by: \")\n",
    "    return choice"
   ]
  },
  {
   "cell_type": "code",
   "execution_count": 24,
   "metadata": {},
   "outputs": [],
   "source": [
    " def an_order(sequence):\n",
    "    \"\"\" generates a list of the 20 amino acids ordered in ascending order of their abundance in the sequence\"\"\"\n",
    "    # availing list of all the possible (20) amino acids\n",
    "    aa_residues = ['G', 'A', 'V', 'C', 'P', 'L', 'I', 'M', 'W', 'F', 'S', 'T', 'Y', 'N', 'Q', 'K', 'R', 'H', 'D', 'E']\n",
    "    aa_number = [] # initializing an empty list of count for every amino acid in the sequence\n",
    "    \n",
    "    # Create a dictionary of each amino acid paired with its count in the sequence\n",
    "    for residue in aa_residues:\n",
    "        aa_number.append(sequence.count(residue))\n",
    "    aa_count_dict = dict((residue,aa) for residue,aa in zip(aa_residues, aa_number))\n",
    "    \n",
    "     # create a new list of the 20 amino acids ordered according to user option(an)\n",
    "    residues_list= []\n",
    "    for k,v in sorted(aa_count_dict.items(), key=lambda p:p[1]):\n",
    "        residues_list.append(k)\n",
    "    return residues_list"
   ]
  },
  {
   "cell_type": "code",
   "execution_count": 25,
   "metadata": {},
   "outputs": [],
   "source": [
    "def dn_order(sequence):\n",
    "    \"\"\"generates a list of the 20 amino acids ordered in descending order of their abundance in the sequence\"\"\"\n",
    "    # availing list of all the possible (20) amino acids\n",
    "    aa_residues = ['G', 'A', 'V', 'C', 'P', 'L', 'I', 'M', 'W', 'F', 'S', 'T', 'Y', 'N', 'Q', 'K', 'R', 'H', 'D', 'E']\n",
    "    aa_number = []  # initializing an empty list of count for every amino acid in the sequence\n",
    "    \n",
    "    # Create a dictionary of each amino acid paired with its count in the sequence\n",
    "    for residue in aa_residues:\n",
    "        aa_number.append(sequence.count(residue))\n",
    "    aa_count_dict = dict((residue,aa) for residue,aa in zip(aa_residues, aa_number))\n",
    "    \n",
    "    # create a new list of the 20 amino acids ordered according to user option(dn)\n",
    "    residues_list = []\n",
    "    for k,v in sorted(aa_count_dict.items(), key=lambda p:p[1], reverse=True):\n",
    "        residues_list.append(k)\n",
    "        \n",
    "    return residues_list"
   ]
  },
  {
   "cell_type": "code",
   "execution_count": 26,
   "metadata": {},
   "outputs": [],
   "source": [
    "def aa_order(sequence):\n",
    "    \"\"\"generates a list of the 20  amino acids ordered in ascending alphabetical order\"\"\"\n",
    "    residue_list = []\n",
    "    one_letter_code = {'G':'Gly', 'A':'Ala', 'V':'Val', 'C':'Cys', 'P':'Pro', 'L':'Leu', 'I':'Ile', 'M':'Met', 'W':'Trp', 'F':'Phe', 'S':'Ser', 'T':'Thr', 'Y':'Tyr', 'N':'Asn', 'Q':'Gln', 'K':'Lys', 'R':'Arg', 'H':'His', 'D':'Asp', 'E':'Glu'}\n",
    "    for k,v in sorted(one_letter_code.items(), key=lambda p:p[1]):\n",
    "        residue_list.append(k)\n",
    "    return residue_list"
   ]
  },
  {
   "cell_type": "code",
   "execution_count": 27,
   "metadata": {},
   "outputs": [],
   "source": [
    "def da_order(sequence):\n",
    "    \"\"\"generates a list of the 20  amino acids ordered in ascending alphabetical order\"\"\"\n",
    "    residue_list = []\n",
    "    one_letter_code = {'G':'Gly', 'A':'Ala', 'V':'Val', 'C':'Cys', 'P':'Pro', 'L':'Leu', 'I':'Ile', 'M':'Met', 'W':'Trp', 'F':'Phe', 'S':'Ser', 'T':'Thr', 'Y':'Tyr', 'N':'Asn', 'Q':'Gln', 'K':'Lys', 'R':'Arg', 'H':'His', 'D':'Asp', 'E':'Glu'}\n",
    "    for k,v in sorted(one_letter_code.items(), key=lambda p:p[1], reverse=True):\n",
    "        residue_list.append(k)\n",
    "    return residue_list"
   ]
  },
  {
   "cell_type": "code",
   "execution_count": 28,
   "metadata": {},
   "outputs": [],
   "source": [
    "def draw_hist(sequence, residues):\n",
    "    \"\"\"generates a histogram of amino acids in the sequence\"\"\"\n",
    "    one_letter_code = {'G':'Gly', 'A':'Ala', 'V':'Val', 'C':'Cys', 'P':'Pro', 'L':'Leu', 'I':'Ile', 'M':'Met', 'W':'Trp', 'F':'Phe', 'S':'Ser', 'T':'Thr', 'Y':'Tyr', 'N':'Asn', 'Q':'Gln', 'K':'Lys', 'R':'Arg', 'H':'His', 'D':'Asp', 'E':'Glu'}\n",
    "    #residues = ['G', 'A', 'V', 'C', 'P', 'L', 'I', 'M', 'W', 'F', 'S', 'T', 'Y', 'N', 'Q', 'K', 'R', 'H', 'D', 'E']\n",
    "    for residue in residues:\n",
    "        freq = []\n",
    "        for i in sequence:\n",
    "            if residue == i:\n",
    "                l = one_letter_code[i] \n",
    "                freq.append(l)\n",
    "        amino_acid = \"\".join(set(freq))\n",
    "        if residue in sequence:\n",
    "            print(amino_acid, \"(\", len(freq),\"):\", \"*\" * len(freq))\n",
    "        else:\n",
    "            pass"
   ]
  },
  {
   "cell_type": "code",
   "execution_count": 29,
   "metadata": {},
   "outputs": [],
   "source": [
    "def summary_caller(order):\n",
    "    if order.lower() in ('an','dn','aa','da'):\n",
    "        if order.lower() == 'an': \n",
    "            residues = an_order(sequence)\n",
    "            draw_hist(sequence, residues)\n",
    "            \n",
    "        elif order.lower() == 'dn':\n",
    "            residues = dn_order(sequence)\n",
    "            draw_hist(sequence, residues)\n",
    "            \n",
    "        elif order.lower() == 'aa':\n",
    "            residues = aa_order(sequence)\n",
    "            draw_hist(sequence, residues)\n",
    "            \n",
    "        else:\n",
    "            residues = da_order(sequence)\n",
    "            draw_hist(sequence, residues)\n",
    "    else:\n",
    "        print(\"invalid input\")\n",
    "        ordering_option()"
   ]
  },
  {
   "cell_type": "code",
   "execution_count": null,
   "metadata": {},
   "outputs": [
    {
     "name": "stdout",
     "output_type": "stream",
     "text": [
      "\n",
      "     Choose an option to order by:\n",
      "         number of amino acids - ascending (an)\n",
      "         number of amino acids - descending (dn)\n",
      "         alphabetically - ascending (aa)\n",
      "         alphabetically - descending (da)\n",
      "    \n"
     ]
    },
    {
     "name": "stdin",
     "output_type": "stream",
     "text": [
      "order by:  an\n"
     ]
    },
    {
     "name": "stdout",
     "output_type": "stream",
     "text": [
      "Met ( 4 ): ****\n",
      "Trp ( 4 ): ****\n",
      "Asn ( 5 ): *****\n",
      "Gln ( 5 ): *****\n",
      "Val ( 6 ): ******\n",
      "Glu ( 6 ): ******\n",
      "Lys ( 7 ): *******\n",
      "Arg ( 7 ): *******\n",
      "His ( 7 ): *******\n",
      "Ser ( 8 ): ********\n",
      "Thr ( 8 ): ********\n",
      "Tyr ( 9 ): *********\n",
      "Ile ( 10 ): **********\n",
      "Pro ( 11 ): ***********\n",
      "Phe ( 12 ): ************\n",
      "Leu ( 13 ): *************\n",
      "Ala ( 15 ): ***************\n",
      "Gly ( 20 ): ********************\n",
      "Asp ( 20 ): ********************\n",
      "\n",
      "********************************************************************************\n",
      "* PDB FILE ANALYZER                                                            *\n",
      "********************************************************************************\n",
      "* Select an option from below:                                                 *\n",
      "*                                                                              *\n",
      "*      1) Open a PDB File                      (O)                             *\n",
      "*      2) Information                          (I)                             *\n",
      "*      3) Show histogram of amino acids        (H)                             *\n",
      "*      4) Display Secondary Structure          (S)                             *\n",
      "*      5) Export PDB File                      (X)                             *\n",
      "*      6) Exit                                 (Q)                             *\n",
      "*                                                                              *\n",
      "*                                                            Current PDB: None *\n",
      "********************************************************************************\n",
      "\n"
     ]
    }
   ],
   "source": [
    "def main_histogram():\n",
    "    \"\"\"Main function. Calls the rest of the functions within the histogram option\"\"\"\n",
    "    lines= open_file(\"3AYU.pdb\") # opens file and saves all lines\n",
    "    all_sequences = extract_chain_sequences(lines)  #extracts the sequence residues lines\n",
    "    sequence = chain_sequence(all_sequences)  # extracts the sequence of amino acids in the protein\n",
    "    order = ordering_option()  # displays order options for the user and records the choice input\n",
    "    summary_caller(order)  # sieves through the order options and calls the appropriate functions based on order selected by user\n",
    "    print_menu()\n",
    "main_histogram() "
   ]
  },
  {
   "cell_type": "code",
   "execution_count": null,
   "metadata": {},
   "outputs": [],
   "source": []
  },
  {
   "cell_type": "markdown",
   "metadata": {},
   "source": [
    "### The mother gen_sorted_residues_list function. later broken down into the small order functions"
   ]
  },
  {
   "cell_type": "code",
   "execution_count": 249,
   "metadata": {},
   "outputs": [],
   "source": [
    "def gen_sorted_residues_list(sequence, order):\n",
    "    residues = ['G', 'A', 'V', 'C', 'P', 'L', 'I', 'M', 'W', 'F', 'S', 'T', 'Y', 'N', 'Q', 'K', 'R', 'H', 'D', 'E']\n",
    "    \n",
    "    if order.lower() in ('an','dn','aa','da'):\n",
    "        \n",
    "        if order.lower() == 'an':\n",
    "            aa_number = []\n",
    "            for residue in residues:\n",
    "                aa_number.append(sequence.count(residue))\n",
    "            aa_count_dict = dict((residue,aa) for residue,aa in zip(residues,aa_number))\n",
    "            \n",
    "            residues= []\n",
    "            for k,v in sorted(aa_count_dict.items(), key=lambda p:p[1]):\n",
    "                residues.append(k)\n",
    "            return residues\n",
    "\n",
    "            \n",
    "        elif order.lower() == 'dn':\n",
    "            aa_number = []  # initializing an empty list of count for every amino acid in the sequence\n",
    "            for residue in residues:  \n",
    "                aa_number.append(sequence.count(residue))\n",
    "                \n",
    "            # Create a dictionary of each amino acid paired with its count in the sequence\n",
    "            aa_count_dict = dict((residue,aa) for residue,aa in zip(residues,aa_number))\n",
    "           \n",
    "            residues = []  # initialise an empty list to collect the amino acids ordered according to user option\n",
    "            for k,v in sorted(aa_count_dict.items(), key=lambda p:p[1], reverse=True):\n",
    "                residues.append(k)\n",
    "            return residues\n",
    "        \n",
    "            \n",
    "        elif order.lower() == 'aa':\n",
    "            residues.sort()\n",
    "            return residues\n",
    "            \n",
    "        else:\n",
    "            residues.sort(reverse=True)\n",
    "            return residues\n",
    "        \n",
    "    else:\n",
    "       # \"call options function again\"\n",
    "        print(\"invalid input\")\n",
    "        pass\n",
    "#sorted_residues = gen_sorted_residues_list(sequence, order)"
   ]
  },
  {
   "cell_type": "code",
   "execution_count": null,
   "metadata": {},
   "outputs": [],
   "source": []
  },
  {
   "cell_type": "code",
   "execution_count": null,
   "metadata": {},
   "outputs": [],
   "source": []
  },
  {
   "cell_type": "markdown",
   "metadata": {},
   "source": [
    "### Pending stuff\n"
   ]
  },
  {
   "cell_type": "code",
   "execution_count": null,
   "metadata": {},
   "outputs": [],
   "source": []
  }
 ],
 "metadata": {
  "kernelspec": {
   "display_name": "Python 3",
   "language": "python",
   "name": "python3"
  },
  "language_info": {
   "codemirror_mode": {
    "name": "ipython",
    "version": 3
   },
   "file_extension": ".py",
   "mimetype": "text/x-python",
   "name": "python",
   "nbconvert_exporter": "python",
   "pygments_lexer": "ipython3",
   "version": "3.7.2"
  }
 },
 "nbformat": 4,
 "nbformat_minor": 2
}
